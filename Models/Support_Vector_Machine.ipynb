{
  "nbformat": 4,
  "nbformat_minor": 0,
  "metadata": {
    "colab": {
      "provenance": [],
      "collapsed_sections": [
        "PzZDVidWTC0y"
      ]
    },
    "kernelspec": {
      "name": "python3",
      "display_name": "Python 3"
    },
    "language_info": {
      "name": "python"
    }
  },
  "cells": [
    {
      "cell_type": "code",
      "execution_count": 1,
      "metadata": {
        "id": "-xh_Vn1d3Ehh"
      },
      "outputs": [],
      "source": [
        "# Requerimos Python ≥3.5\n",
        "# import sys\n",
        "# assert sys.version_info >= (3, 5)\n",
        "\n",
        "# Requerimos scikit-Learn ≥0.20\n",
        "import sklearn\n",
        "assert sklearn.__version__ >= \"0.20\"\n",
        "\n",
        "# Importaciones comunes\n",
        "import numpy as np\n",
        "import os\n",
        "\n",
        "# Salidas aleatorias reproducibles\n",
        "np.random.seed(42)\n",
        "\n",
        "import matplotlib.pyplot as plt\n",
        "import seaborn as sns\n",
        "\n",
        "from sklearn.metrics import confusion_matrix\n",
        "from sklearn.metrics import classification_report\n",
        "\n",
        "# Las figuras se guardaran en la carpeta \"images\" junto al notebook\n",
        "PROJECT_ROOT_DIR = \".\"\n",
        "CHAPTER_ID = \"svm\"\n",
        "IMAGES_PATH = os.path.join(PROJECT_ROOT_DIR, \"images\", CHAPTER_ID)\n",
        "os.makedirs(IMAGES_PATH, exist_ok=True)\n",
        "\n",
        "# Funcion para guardar figuras (Falta revisión para que funcione en colab)\n",
        "def save_fig(fig_id, tight_layout=True, fig_extension=\"png\", resolution=300):\n",
        "    path = os.path.join(IMAGES_PATH, fig_id + \".\" + fig_extension)\n",
        "    print(\"Saving figure\", fig_id)\n",
        "    if tight_layout:\n",
        "        plt.tight_layout()\n",
        "    plt.savefig(path, format=fig_extension, dpi=resolution)"
      ]
    },
    {
      "cell_type": "code",
      "source": [
        "# Descarga de archivos\n",
        "from google.colab import files\n",
        "\n",
        "# Funcion para guardar dataframe como csv\n",
        "def save_df_as_cv(downloable_df, name):\n",
        "  # Descarga del df \n",
        "  downloable_df.to_csv(name + '.csv')\n",
        "  files.download(name + '.csv')"
      ],
      "metadata": {
        "id": "i9Bhzz5E9u4D"
      },
      "execution_count": 2,
      "outputs": []
    },
    {
      "cell_type": "code",
      "source": [
        "# Carga de datos\n",
        "import pandas as pd \n",
        "# Carga del dataset\n",
        "df_estilos_aprendizaje = pd.read_csv('estilos_aprendizaje_codificado.csv')\n",
        "\n",
        "df_estilos_aprendizaje.keys()"
      ],
      "metadata": {
        "colab": {
          "base_uri": "https://localhost:8080/"
        },
        "id": "5rJNzUcF6QlD",
        "outputId": "6b1a9dc4-2170-47c4-cb73-d5578bdcd44d"
      },
      "execution_count": 3,
      "outputs": [
        {
          "output_type": "execute_result",
          "data": {
            "text/plain": [
              "Index(['Unnamed: 0', 'timestamp', 'edad', 'v', 'a', 'k', 'v_percent',\n",
              "       'a_percent', 'k_percent', 'Bachillerato',\n",
              "       ...\n",
              "       '37_v', '38_a', '38_k', '38_v', '39_a', '39_k', '39_v', '40_a', '40_k',\n",
              "       '40_v'],\n",
              "      dtype='object', length=157)"
            ]
          },
          "metadata": {},
          "execution_count": 3
        }
      ]
    },
    {
      "cell_type": "markdown",
      "source": [
        "## Clasificacion SVM lineal"
      ],
      "metadata": {
        "id": "Cxc52ugK-Qta"
      }
    },
    {
      "cell_type": "code",
      "source": [
        "# Importar función train_test_split\n",
        "from sklearn.model_selection import train_test_split\n",
        "\n",
        "# Funcion para separar conjuntos de entrenamiento y pruebas\n",
        "def train_test_separate(X, y):\n",
        "  # 70% training and 30% test\n",
        "  return train_test_split(X, y, test_size=0.3, random_state=109)"
      ],
      "metadata": {
        "id": "EJ7K1ZGRDHEX"
      },
      "execution_count": 4,
      "outputs": []
    },
    {
      "cell_type": "code",
      "source": [
        "# Importamos Clasificador de Soporte Vectorial (SVC) de scikit-learn\n",
        "from sklearn.svm import SVC\n",
        "\n",
        "# Funcion para entrenar y predecir con el modelo\n",
        "def predcitWithSVM(X_train, y_train, X_test):\n",
        "  # Recurrimos a un modelo SVM clasificador con un kernel lineal\n",
        "  svm_clf = SVC(kernel=\"linear\", C=float(\"inf\"))\n",
        "\n",
        "  # Entrenamos el modelo\n",
        "  svm_clf.fit(X_train, y_train)\n",
        "\n",
        "  # Predecir la respuesta para el conjunto de datos de prueba\n",
        "  y_pred = svm_clf.predict(X_test)\n",
        "\n",
        "  return y_pred, svm_clf"
      ],
      "metadata": {
        "id": "_IeIsStf-Qt5"
      },
      "execution_count": 5,
      "outputs": []
    },
    {
      "cell_type": "code",
      "source": [
        "# Importa el módulo de métricas de scikit-learn para el cálculo de precisión\n",
        "from sklearn import metrics\n",
        "\n",
        "# Funcion para evaluar de manera simple el modelo\n",
        "def evaluateSVMSimple(y_test, y_pred, target):\n",
        "  print(\"\\nTarget Class:\", target)\n",
        "  \n",
        "  # Accuracy del modelo: ¿con qué frecuencia es correcto el clasificador?\n",
        "  print(\"Accuracy:\", round(metrics.accuracy_score(y_test, y_pred), 2) )\n",
        "\n",
        "  # Precision del modelo: ¿qué porcentaje de tuplas positivas se etiquetan como tales?\n",
        "  print(\"Precision:\", round(metrics.precision_score(y_test, y_pred), 2) )\n",
        "\n",
        "  # Recall del modelo: ¿qué porcentaje de tuplas positivas están etiquetadas como tales?\n",
        "  print(\"Recall:\", round(metrics.recall_score(y_test, y_pred), 2) )"
      ],
      "metadata": {
        "id": "5aXdc8-e_U4-"
      },
      "execution_count": 6,
      "outputs": []
    },
    {
      "cell_type": "code",
      "source": [
        "# Funcion para evaluar y mostrar matriz de confusión\n",
        "def evaluateSVM(y_test, y_pred, target):\n",
        "    conf_matrix = confusion_matrix(y_test, y_pred)\n",
        "    plt.figure(figsize=(12, 12))\n",
        "    sns.heatmap(conf_matrix, annot=True, fmt=\"d\");\n",
        "    plt.title(\"Confusion matrix class \" + target)\n",
        "    plt.ylabel('True class')\n",
        "    plt.xlabel('Predicted class')\n",
        "    plt.show()\n",
        "    print (classification_report(y_test, y_pred))"
      ],
      "metadata": {
        "id": "KfRaLKAhIvEC"
      },
      "execution_count": 7,
      "outputs": []
    },
    {
      "cell_type": "code",
      "source": [
        "# Seleccionando solo datos utiles\n",
        "# Estas contienen las preguntas extras que no corresponden al test\n",
        "preguntas = df_estilos_aprendizaje.iloc[:, 9:28]\n",
        "# Estas contienen las 40 preguntas que corresponden al test\n",
        "preguntas_test = df_estilos_aprendizaje.iloc[:, 37:157]\n",
        "\n",
        "frames_FULL = [preguntas, preguntas_test]\n",
        "frames = [preguntas_test]\n",
        "\n",
        "X_FULL = pd.concat(frames_FULL, axis=1)\n",
        "X = pd.concat(frames, axis=1)\n",
        "\n",
        "# Se definen las clases objetivo\n",
        "y_visual = df_estilos_aprendizaje[\"estilo_primario_visual\"]\n",
        "y_auditivo = df_estilos_aprendizaje[\"estilo_primario_auditivo\"]\n",
        "y_kinestesico = df_estilos_aprendizaje[\"estilo_primario_kinestesico\"]"
      ],
      "metadata": {
        "id": "BVZmpTYW-Qt9"
      },
      "execution_count": 8,
      "outputs": []
    },
    {
      "cell_type": "markdown",
      "source": [
        "## Prediciendo solo con las 40 preguntas del test"
      ],
      "metadata": {
        "id": "ZQCA1ATySBvB"
      }
    },
    {
      "cell_type": "markdown",
      "source": [
        "### Clase objetivo: VISUAL"
      ],
      "metadata": {
        "id": "WloKr7dBOswq"
      }
    },
    {
      "cell_type": "code",
      "source": [
        "##### VISUAL #####\n",
        "\n",
        "# Se divide el conjunto de datos en conjunto de entrenamiento y conjunto de prueba\n",
        "X_train, X_test, y_train, y_test = train_test_separate(X, y_visual)\n",
        "\n",
        "# Se entrena y predice \n",
        "y_pred, svm_visual = predcitWithSVM(X_train, y_train, X_test)\n",
        "\n",
        "# Se evalua el modelo\n",
        "evaluateSVM(y_test, y_pred, 'visual')"
      ],
      "metadata": {
        "id": "y7Ptzavu_xKk",
        "colab": {
          "base_uri": "https://localhost:8080/",
          "height": 886
        },
        "outputId": "86a67920-f2b9-4106-d631-f17aeabba63a"
      },
      "execution_count": 9,
      "outputs": [
        {
          "output_type": "display_data",
          "data": {
            "text/plain": [
              "<Figure size 864x864 with 2 Axes>"
            ],
            "image/png": "[encoded data removed]"
          },
          "metadata": {
            "needs_background": "light"
          }
        },
        {
          "output_type": "stream",
          "name": "stdout",
          "text": [
            "              precision    recall  f1-score   support\n",
            "\n",
            "           0       1.00      0.78      0.88         9\n",
            "           1       0.75      1.00      0.86         6\n",
            "\n",
            "    accuracy                           0.87        15\n",
            "   macro avg       0.88      0.89      0.87        15\n",
            "weighted avg       0.90      0.87      0.87        15\n",
            "\n"
          ]
        }
      ]
    },
    {
      "cell_type": "markdown",
      "source": [
        "### Clase objetivo: AUDITIVO"
      ],
      "metadata": {
        "id": "3PMWQSN0O5yD"
      }
    },
    {
      "cell_type": "code",
      "source": [
        "##### AUDITIVO #####\n",
        "\n",
        "# Se divide el conjunto de datos en conjunto de entrenamiento y conjunto de prueba\n",
        "X_train, X_test, y_train, y_test = train_test_separate(X, y_auditivo)\n",
        "\n",
        "# Se entrena y predice \n",
        "y_pred, svm_auditivo = predcitWithSVM(X_train, y_train, X_test)\n",
        "\n",
        "# Se evalua el modelo\n",
        "evaluateSVM(y_test, y_pred, 'auditivo')"
      ],
      "metadata": {
        "colab": {
          "base_uri": "https://localhost:8080/",
          "height": 886
        },
        "id": "fNFRWUq1D9BL",
        "outputId": "c39eb3e0-5614-488f-8870-3876aead4122"
      },
      "execution_count": 10,
      "outputs": [
        {
          "output_type": "display_data",
          "data": {
            "text/plain": [
              "<Figure size 864x864 with 2 Axes>"
            ],
            "image/png": "[encoded data removed]"
          },
          "metadata": {
            "needs_background": "light"
          }
        },
        {
          "output_type": "stream",
          "name": "stdout",
          "text": [
            "              precision    recall  f1-score   support\n",
            "\n",
            "           0       0.86      1.00      0.92        12\n",
            "           1       1.00      0.33      0.50         3\n",
            "\n",
            "    accuracy                           0.87        15\n",
            "   macro avg       0.93      0.67      0.71        15\n",
            "weighted avg       0.89      0.87      0.84        15\n",
            "\n"
          ]
        }
      ]
    },
    {
      "cell_type": "markdown",
      "source": [
        "### Clase objetivo: KINESTESICO"
      ],
      "metadata": {
        "id": "RMeP0Uc0O3PG"
      }
    },
    {
      "cell_type": "code",
      "source": [
        "##### KINESTESICO #####\n",
        "\n",
        "# Se divide el conjunto de datos en conjunto de entrenamiento y conjunto de prueba\n",
        "X_train, X_test, y_train, y_test = train_test_separate(X, y_kinestesico)\n",
        "\n",
        "# Se entrena y predice \n",
        "y_pred, svm_kinestesico = predcitWithSVM(X_train, y_train, X_test)\n",
        "\n",
        "# Se evalua el modelo\n",
        "evaluateSVM(y_test, y_pred, 'kinestesico')"
      ],
      "metadata": {
        "colab": {
          "base_uri": "https://localhost:8080/",
          "height": 886
        },
        "id": "_6NOwfrJEEiu",
        "outputId": "71efecd2-7ce2-4f93-a4dd-a639e32f8206"
      },
      "execution_count": 11,
      "outputs": [
        {
          "output_type": "display_data",
          "data": {
            "text/plain": [
              "<Figure size 864x864 with 2 Axes>"
            ],
            "image/png": "[encoded data removed]"
          },
          "metadata": {
            "needs_background": "light"
          }
        },
        {
          "output_type": "stream",
          "name": "stdout",
          "text": [
            "              precision    recall  f1-score   support\n",
            "\n",
            "           0       0.82      1.00      0.90         9\n",
            "           1       1.00      0.67      0.80         6\n",
            "\n",
            "    accuracy                           0.87        15\n",
            "   macro avg       0.91      0.83      0.85        15\n",
            "weighted avg       0.89      0.87      0.86        15\n",
            "\n"
          ]
        }
      ]
    },
    {
      "cell_type": "markdown",
      "source": [
        "## Prediciendo con las 40 preguntas del test + las preguntas extras"
      ],
      "metadata": {
        "id": "PzZDVidWTC0y"
      }
    },
    {
      "cell_type": "markdown",
      "source": [
        "### Clase objetivo: VISUAL"
      ],
      "metadata": {
        "id": "UrvI43aSTC05"
      }
    },
    {
      "cell_type": "code",
      "source": [
        "##### VISUAL #####\n",
        "\n",
        "# Se divide el conjunto de datos en conjunto de entrenamiento y conjunto de prueba\n",
        "X_train, X_test, y_train, y_test = train_test_separate(X_FULL, y_visual)\n",
        "\n",
        "# Se entrena y predice \n",
        "y_pred, svm_visual_full = predcitWithSVM(X_train, y_train, X_test)\n",
        "\n",
        "# Se evalua el modelo\n",
        "evaluateSVM(y_test, y_pred, 'visual')"
      ],
      "metadata": {
        "colab": {
          "base_uri": "https://localhost:8080/",
          "height": 0
        },
        "outputId": "5f952fcb-78d4-472b-fdd1-3912a3147779",
        "id": "CogiPH1lTC06"
      },
      "execution_count": 12,
      "outputs": [
        {
          "output_type": "display_data",
          "data": {
            "text/plain": [
              "<Figure size 864x864 with 2 Axes>"
            ],
            "image/png": "[encoded data removed]"
          },
          "metadata": {
            "needs_background": "light"
          }
        },
        {
          "output_type": "stream",
          "name": "stdout",
          "text": [
            "              precision    recall  f1-score   support\n",
            "\n",
            "           0       0.88      0.78      0.82         9\n",
            "           1       0.71      0.83      0.77         6\n",
            "\n",
            "    accuracy                           0.80        15\n",
            "   macro avg       0.79      0.81      0.80        15\n",
            "weighted avg       0.81      0.80      0.80        15\n",
            "\n"
          ]
        }
      ]
    },
    {
      "cell_type": "markdown",
      "source": [
        "### Clase objetivo: AUDITIVO"
      ],
      "metadata": {
        "id": "mpqJmQs1TC06"
      }
    },
    {
      "cell_type": "code",
      "source": [
        "##### AUDITIVO #####\n",
        "\n",
        "# Se divide el conjunto de datos en conjunto de entrenamiento y conjunto de prueba\n",
        "X_train, X_test, y_train, y_test = train_test_separate(X_FULL, y_auditivo)\n",
        "\n",
        "# Se entrena y predice \n",
        "y_pred, svm_auditivo_full = predcitWithSVM(X_train, y_train, X_test)\n",
        "\n",
        "# Se evalua el modelo\n",
        "evaluateSVM(y_test, y_pred, 'auditivo')"
      ],
      "metadata": {
        "colab": {
          "base_uri": "https://localhost:8080/",
          "height": 0
        },
        "outputId": "7fba57eb-422d-4ea5-c338-e9e17307c99f",
        "id": "tGZJstazTC06"
      },
      "execution_count": 13,
      "outputs": [
        {
          "output_type": "display_data",
          "data": {
            "text/plain": [
              "<Figure size 864x864 with 2 Axes>"
            ],
            "image/png": "[encoded data removed]"
          },
          "metadata": {
            "needs_background": "light"
          }
        },
        {
          "output_type": "stream",
          "name": "stdout",
          "text": [
            "              precision    recall  f1-score   support\n",
            "\n",
            "           0       0.92      0.92      0.92        12\n",
            "           1       0.67      0.67      0.67         3\n",
            "\n",
            "    accuracy                           0.87        15\n",
            "   macro avg       0.79      0.79      0.79        15\n",
            "weighted avg       0.87      0.87      0.87        15\n",
            "\n"
          ]
        }
      ]
    },
    {
      "cell_type": "markdown",
      "source": [
        "### Clase objetivo: KINESTESICO"
      ],
      "metadata": {
        "id": "PVQL3kbjTC06"
      }
    },
    {
      "cell_type": "code",
      "source": [
        "##### KINESTESICO #####\n",
        "\n",
        "# Se divide el conjunto de datos en conjunto de entrenamiento y conjunto de prueba\n",
        "X_train, X_test, y_train, y_test = train_test_separate(X_FULL, y_kinestesico)\n",
        "\n",
        "# Se entrena y predice \n",
        "y_pred,svm_kinestesico_full = predcitWithSVM(X_train, y_train, X_test)\n",
        "\n",
        "# Se evalua el modelo\n",
        "evaluateSVM(y_test, y_pred, 'kinestesico')"
      ],
      "metadata": {
        "colab": {
          "base_uri": "https://localhost:8080/",
          "height": 0
        },
        "outputId": "c4a99104-22ca-4021-85d0-759cffa46b56",
        "id": "L0m4J-I8TC06"
      },
      "execution_count": 14,
      "outputs": [
        {
          "output_type": "display_data",
          "data": {
            "text/plain": [
              "<Figure size 864x864 with 2 Axes>"
            ],
            "image/png": "[encoded data removed]"
          },
          "metadata": {
            "needs_background": "light"
          }
        },
        {
          "output_type": "stream",
          "name": "stdout",
          "text": [
            "              precision    recall  f1-score   support\n",
            "\n",
            "           0       0.82      1.00      0.90         9\n",
            "           1       1.00      0.67      0.80         6\n",
            "\n",
            "    accuracy                           0.87        15\n",
            "   macro avg       0.91      0.83      0.85        15\n",
            "weighted avg       0.89      0.87      0.86        15\n",
            "\n"
          ]
        }
      ]
    },
    {
      "cell_type": "markdown",
      "source": [
        "# Comparación de resultados con todas las preguntas y solo las correspondientes a las 40 del test\n"
      ],
      "metadata": {
        "id": "9SWxsGFrP1kA"
      }
    },
    {
      "cell_type": "markdown",
      "source": [
        "### Clase objetivo: VISUAL"
      ],
      "metadata": {
        "id": "7p7WIeBKQJXE"
      }
    },
    {
      "cell_type": "code",
      "source": [
        "##### VISUAL FULL #####\n",
        "\n",
        "# Se divide el conjunto de datos en conjunto de entrenamiento y conjunto de prueba\n",
        "X_train_v_f, X_test_v_f, y_train_v_f, y_test_v_f = train_test_separate(X_FULL, y_visual)\n",
        "\n",
        "# Se entrena y predice \n",
        "y_pred_v_f, svm_visual_full = predcitWithSVM(X_train_v_f, y_train_v_f, X_test_v_f)\n",
        "\n",
        "# Se evalua el modelo\n",
        "evaluateSVMSimple(y_test_v_f, y_pred_v_f, 'visual full')\n",
        "\n",
        "##### VISUAL #####\n",
        "\n",
        "# Se divide el conjunto de datos en conjunto de entrenamiento y conjunto de prueba\n",
        "X_train_v, X_test_v, y_train_v, y_test_v = train_test_separate(X, y_visual)\n",
        "\n",
        "# Se entrena y predice \n",
        "y_pred_v, svm_visual = predcitWithSVM(X_train_v, y_train_v, X_test_v)\n",
        "\n",
        "# Se evalua el modelo\n",
        "evaluateSVMSimple(y_test_v, y_pred_v, 'visual')"
      ],
      "metadata": {
        "colab": {
          "base_uri": "https://localhost:8080/"
        },
        "outputId": "eb5c9134-a75e-4443-e8ba-ff8bc8730fe7",
        "id": "HH6bvV3oQJXF"
      },
      "execution_count": 15,
      "outputs": [
        {
          "output_type": "stream",
          "name": "stdout",
          "text": [
            "\n",
            "Target Class: visual full\n",
            "Accuracy: 0.8\n",
            "Precision: 0.71\n",
            "Recall: 0.83\n",
            "\n",
            "Target Class: visual\n",
            "Accuracy: 0.87\n",
            "Precision: 0.75\n",
            "Recall: 1.0\n"
          ]
        }
      ]
    },
    {
      "cell_type": "markdown",
      "source": [
        "### Clase objetivo: AUDITIVO"
      ],
      "metadata": {
        "id": "PmPTvrPUQO_k"
      }
    },
    {
      "cell_type": "code",
      "source": [
        "##### AUDITIVO FULL #####\n",
        "\n",
        "# Se divide el conjunto de datos en conjunto de entrenamiento y conjunto de prueba\n",
        "X_train_a_f, X_test_a_f, y_train_a_f, y_test_a_f = train_test_separate(X_FULL, y_auditivo)\n",
        "\n",
        "# Se entrena y predice \n",
        "y_pred_a_f, svm_auditivo_full = predcitWithSVM(X_train_a_f, y_train_a_f, X_test_a_f)\n",
        "\n",
        "# Se evalua el modelo\n",
        "evaluateSVMSimple(y_test_a_f, y_pred_a_f, 'auditivo full')\n",
        "\n",
        "##### AUDITIVO #####\n",
        "\n",
        "# Se divide el conjunto de datos en conjunto de entrenamiento y conjunto de prueba\n",
        "X_train_a, X_test_a, y_train_a, y_test_a = train_test_separate(X, y_auditivo)\n",
        "\n",
        "# Se entrena y predice \n",
        "y_pred_a, svm_auditivo = predcitWithSVM(X_train_a, y_train_a, X_test_a)\n",
        "\n",
        "# Se evalua el modelo\n",
        "evaluateSVMSimple(y_test_a, y_pred_a, 'auditivo')"
      ],
      "metadata": {
        "colab": {
          "base_uri": "https://localhost:8080/"
        },
        "outputId": "36b4ea38-80ed-43e3-cd98-52a26c0ddfa0",
        "id": "od_BwHTkQO_k"
      },
      "execution_count": 16,
      "outputs": [
        {
          "output_type": "stream",
          "name": "stdout",
          "text": [
            "\n",
            "Target Class: auditivo full\n",
            "Accuracy: 0.87\n",
            "Precision: 0.67\n",
            "Recall: 0.67\n",
            "\n",
            "Target Class: auditivo\n",
            "Accuracy: 0.87\n",
            "Precision: 1.0\n",
            "Recall: 0.33\n"
          ]
        }
      ]
    },
    {
      "cell_type": "markdown",
      "source": [
        "### Clase objetivo: KINESTESICO"
      ],
      "metadata": {
        "id": "DPlxjhNgSWF6"
      }
    },
    {
      "cell_type": "code",
      "source": [
        "##### KINESTESICO FULL #####\n",
        "\n",
        "# Se divide el conjunto de datos en conjunto de entrenamiento y conjunto de prueba\n",
        "X_train_k_f, X_test_k_f, y_train_k_f, y_test_k_f = train_test_separate(X_FULL, y_kinestesico)\n",
        "\n",
        "# Se entrena y predice \n",
        "y_pred_k_f, svm_kinestesico_f = predcitWithSVM(X_train_k_f, y_train_k_f, X_test_k_f)\n",
        "\n",
        "# Se evalua el modelo\n",
        "evaluateSVMSimple(y_test_k_f, y_pred_k_f, 'kinestesico full')\n",
        "\n",
        "##### KINESTESICO #####\n",
        "\n",
        "# Se divide el conjunto de datos en conjunto de entrenamiento y conjunto de prueba\n",
        "X_train_k, X_test_k, y_train_k, y_test_k = train_test_separate(X, y_kinestesico)\n",
        "\n",
        "# Se entrena y predice \n",
        "y_pred_k, svm_kinestesico = predcitWithSVM(X_train_k, y_train_k, X_test_k)\n",
        "\n",
        "# Se evalua el modelo\n",
        "evaluateSVMSimple(y_test_k, y_pred_k, 'kinestesico')"
      ],
      "metadata": {
        "colab": {
          "base_uri": "https://localhost:8080/"
        },
        "outputId": "caedcb8d-5720-4995-e705-0c98a98f9d42",
        "id": "O4C-vZOMQYOs"
      },
      "execution_count": 18,
      "outputs": [
        {
          "output_type": "stream",
          "name": "stdout",
          "text": [
            "\n",
            "Target Class: kinestesico full\n",
            "Accuracy: 0.87\n",
            "Precision: 1.0\n",
            "Recall: 0.67\n",
            "\n",
            "Target Class: kinestesico\n",
            "Accuracy: 0.87\n",
            "Precision: 1.0\n",
            "Recall: 0.67\n"
          ]
        }
      ]
    },
    {
      "cell_type": "markdown",
      "source": [
        "# Curva de precision-recall"
      ],
      "metadata": {
        "id": "uzSyalvoToTm"
      }
    },
    {
      "cell_type": "code",
      "source": [
        "from sklearn.metrics import precision_recall_curve\n",
        "\n",
        "y_scores_visual = svm_visual.decision_function(X_test_v)\n",
        "y_scores_visual_full = svm_visual_full.decision_function(X_test_v_f)\n",
        "\n",
        "y_scores_auditivo = svm_auditivo.decision_function(X_test_a)\n",
        "y_scores_auditivo_full = svm_auditivo_full.decision_function(X_test_a_f)\n",
        "\n",
        "y_scores_kinestesico = svm_kinestesico.decision_function(X_test_k)\n",
        "y_scores_kinestesico_full = svm_kinestesico_full.decision_function(X_test_k_f)\n",
        "\n",
        "\n",
        "precisions_v, recalls_v, thresholds_v = precision_recall_curve(y_test_v, y_scores_visual)\n",
        "precisions_v_f, recalls_v_f, thresholds_v_f = precision_recall_curve(y_test_v_f, y_scores_visual_full)\n",
        "\n",
        "precisions_a, recalls_a, thresholds_a = precision_recall_curve(y_test_a, y_scores_auditivo)\n",
        "precisions_a_f, recalls_a_f, thresholds_a_f = precision_recall_curve(y_test_a_f, y_scores_auditivo_full)\n",
        "\n",
        "precisions_k, recalls_k, thresholds_k = precision_recall_curve(y_test_k, y_scores_kinestesico)\n",
        "precisions_k_f, recalls_k_f, thresholds_k_f = precision_recall_curve(y_test_k_f, y_scores_kinestesico_full)"
      ],
      "metadata": {
        "id": "EYLNivq2X8Fx"
      },
      "execution_count": 21,
      "outputs": []
    },
    {
      "cell_type": "code",
      "source": [
        "# Calculamos el promedio armónico para cada umbral\n",
        "def calculateFScores(precisions, recalls):\n",
        "  return np.sqrt( 2*precisions*recalls/(precisions+recalls))  "
      ],
      "metadata": {
        "id": "EzajveOifxwf"
      },
      "execution_count": 22,
      "outputs": []
    },
    {
      "cell_type": "markdown",
      "source": [
        "## Curva Precision-Recall para el dataset con solo las 40 preguntas del test"
      ],
      "metadata": {
        "id": "IEF7IPhsjX5r"
      }
    },
    {
      "cell_type": "code",
      "source": [
        "################################\n",
        "#### Curva Precision-Recall ####\n",
        "################################\n",
        "\n",
        "## Vamos a determinar el umbral óptimo\n",
        "\n",
        "# Calculamos el promedio armónico para cada umbral\n",
        "# fscores = np.sqrt( 2*precisions*recalls/(precisions+recalls))\n",
        "\n",
        "fscores_v = calculateFScores(precisions_v, recalls_v)\n",
        "fscores_a = calculateFScores(precisions_a, recalls_a)\n",
        "fscores_k = calculateFScores(precisions_k, recalls_k)\n",
        "\n",
        "# Localizamos el umbral optimo donde fscore es máximo\n",
        "ix_v = np.argmax(fscores_v)\n",
        "ix_a = np.argmax(fscores_a)\n",
        "ix_k = np.argmax(fscores_k)\n",
        "print('VISUAL: \\t Best threshold=%f, F score = %.3f' % (thresholds_v[ix_v], fscores_v[ix_v]))\n",
        "print('AUDITIVO: \\t Best threshold=%f, F score = %.3f' % (thresholds_a[ix_a], fscores_a[ix_a]))\n",
        "print('KINESTESICO: \\t Best threshold=%f, F score = %.3f' % (thresholds_k[ix_k], fscores_k[ix_k]))\n",
        "\n",
        "## Ahora la curva\n",
        "\n",
        "no_skill_v = len(y_test_v[y_test_v==1.]) / len(y_test_v)\n",
        "no_skill_a = len(y_test_a[y_test_a==1.]) / len(y_test_a)\n",
        "no_skill_k = len(y_test_k[y_test_k==1.]) / len(y_test_k)\n",
        "plt.figure(figsize=(8,6))\n",
        "plt.plot(recalls_v, precisions_v, \"g-\", color='darkred', linewidth=3, label='SVM_visual')\n",
        "plt.plot(recalls_a, precisions_a, \"g-\", color='darkgreen', linewidth=3, label='SVM_auditivo')\n",
        "plt.plot(recalls_k, precisions_k, \"g-\", color='darkblue', linewidth=3, label='SVM_kinestesico')\n",
        "plt.plot([0, 1], [no_skill_v, no_skill_v], \"r--\", linewidth=3, label='No skill v')\n",
        "plt.plot([0, 1], [no_skill_a, no_skill_a], \"g--\", linewidth=3, label='No skill a')\n",
        "plt.plot([0, 1], [no_skill_k, no_skill_k], \"b--\", linewidth=3, label='No skill k')\n",
        "plt.scatter(recalls_v[ix_v], precisions_v[ix_v], marker='o', color='black', label='Optimal threshold')\n",
        "plt.scatter(recalls_a[ix_a], precisions_a[ix_a], marker='o', color='darkorange', label='Optimal threshold')\n",
        "plt.scatter(recalls_k[ix_k], precisions_k[ix_k], marker='o', color='pink', label='Optimal threshold')\n",
        "plt.xlim([0.0, 1.0])\n",
        "plt.ylim([0.0, 1.05])\n",
        "plt.xlabel('Recall')\n",
        "plt.ylabel('Precision')\n",
        "plt.title('Curva Precision-Recall (Solo preguntas del test)')\n",
        "plt.legend()\n",
        "plt.show()"
      ],
      "metadata": {
        "colab": {
          "base_uri": "https://localhost:8080/",
          "height": 511
        },
        "id": "qezFvfAiVfLf",
        "outputId": "f083b93f-e6a6-4b9e-b008-d95ee156dd6f"
      },
      "execution_count": 49,
      "outputs": [
        {
          "output_type": "stream",
          "name": "stderr",
          "text": [
            "/usr/local/lib/python3.7/dist-packages/ipykernel_launcher.py:3: RuntimeWarning: invalid value encountered in true_divide\n",
            "  This is separate from the ipykernel package so we can avoid doing imports until\n"
          ]
        },
        {
          "output_type": "stream",
          "name": "stdout",
          "text": [
            "VISUAL: \t Best threshold=1.236681, F score = nan\n",
            "AUDITIVO: \t Best threshold=-0.033027, F score = 0.894\n",
            "KINESTESICO: \t Best threshold=-0.230558, F score = 0.913\n"
          ]
        },
        {
          "output_type": "display_data",
          "data": {
            "text/plain": [
              "<Figure size 576x432 with 1 Axes>"
            ],
            "image/png": "[encoded data removed]"
          },
          "metadata": {
            "needs_background": "light"
          }
        }
      ]
    },
    {
      "cell_type": "markdown",
      "source": [
        "## Curva Precision-Recall para el dataset con las 40 preguntas del test más las extras"
      ],
      "metadata": {
        "id": "HNXbl1kDji0B"
      }
    },
    {
      "cell_type": "code",
      "source": [
        "################################\n",
        "#### Curva Precision-Recall ####\n",
        "################################\n",
        "\n",
        "## Vamos a determinar el umbral óptimo\n",
        "\n",
        "# Calculamos el promedio armónico para cada umbral\n",
        "# fscores = np.sqrt( 2*precisions*recalls/(precisions+recalls))\n",
        "\n",
        "fscores_v_f = calculateFScores(precisions_v_f, recalls_v_f)\n",
        "fscores_a_f = calculateFScores(precisions_a_f, recalls_a_f)\n",
        "fscores_k_f = calculateFScores(precisions_k_f, recalls_k_f)\n",
        "\n",
        "# Localizamos el umbral optimo donde fscore es máximo\n",
        "ix_v_f = np.argmax(fscores_v_f)\n",
        "ix_a_f = np.argmax(fscores_a_f)\n",
        "ix_k_f = np.argmax(fscores_k_f)\n",
        "print('VISUAL: \\t Best threshold=%f, F score = %.3f' % (thresholds_v_f[ix_v_f], fscores_v_f[ix_v_f]))\n",
        "print('AUDITIVO: \\t Best threshold=%f, F score = %.3f' % (thresholds_a_f[ix_a_f], fscores_a_f[ix_a_f]))\n",
        "print('KINESTESICO: \\t Best threshold=%f, F score = %.3f' % (thresholds_k_f[ix_k_f], fscores_k_f[ix_k_f]))\n",
        "\n",
        "## Ahora la curva\n",
        "\n",
        "no_skill_v_f = len(y_test_v_f[y_test_v_f==1.]) / len(y_test_v_f)\n",
        "no_skill_a_f = len(y_test_a_f[y_test_a_f==1.]) / len(y_test_a_f)\n",
        "no_skill_k_f = len(y_test_k_f[y_test_k_f==1.]) / len(y_test_k_f)\n",
        "plt.figure(figsize=(8,8))\n",
        "plt.plot(recalls_v_f, precisions_v_f, \"g-\", color='darkred', linewidth=3, label='SVM_visual')\n",
        "plt.plot(recalls_a_f, precisions_a_f, \"g-\", color='darkgreen', linewidth=3, label='SVM_auditivo')\n",
        "plt.plot(recalls_k_f, precisions_k_f, \"g-\", color='darkblue', linewidth=3, label='SVM_kinestesico')\n",
        "plt.plot([0, 1], [no_skill_v_f, no_skill_v_f], \"r--\", linewidth=3, label='No skill v')\n",
        "#plt.plot([0, 1], [no_skill_a_f, no_skill_a_f], \"g--\", linewidth=3, label='No skill a')\n",
        "plt.plot([0, 1], [no_skill_k_f, no_skill_k_f], \"b--\", linewidth=3, label='No skill k')\n",
        "plt.scatter(recalls_v_f[ix_v_f], precisions_v_f[ix_v_f], marker='o', color='black', label='Optimal threshold')\n",
        "plt.scatter(recalls_a_f[ix_a_f], precisions_a_f[ix_a_f], marker='o', color='darkorange', label='Optimal threshold')\n",
        "plt.scatter(recalls_k_f[ix_k_f], precisions_k_f[ix_k_f], marker='o', color='pink', label='Optimal threshold')\n",
        "plt.xlim([0.0, 1.0])\n",
        "plt.ylim([0.0, 1.05])\n",
        "plt.xlabel('Recall')\n",
        "plt.ylabel('Precision')\n",
        "plt.title('Curva Precision-Recall (Preguntas del test + extras)')\n",
        "plt.legend()\n",
        "plt.show()"
      ],
      "metadata": {
        "colab": {
          "base_uri": "https://localhost:8080/",
          "height": 620
        },
        "outputId": "8eba1ded-720a-4dc6-f131-2804d1d56937",
        "id": "fliPuxF3ji0B"
      },
      "execution_count": 55,
      "outputs": [
        {
          "output_type": "stream",
          "name": "stderr",
          "text": [
            "/usr/local/lib/python3.7/dist-packages/ipykernel_launcher.py:3: RuntimeWarning: invalid value encountered in true_divide\n",
            "  This is separate from the ipykernel package so we can avoid doing imports until\n"
          ]
        },
        {
          "output_type": "stream",
          "name": "stdout",
          "text": [
            "VISUAL: \t Best threshold=1.131309, F score = nan\n",
            "AUDITIVO: \t Best threshold=0.075673, F score = 0.816\n",
            "KINESTESICO: \t Best threshold=-0.597034, F score = 0.894\n"
          ]
        },
        {
          "output_type": "display_data",
          "data": {
            "text/plain": [
              "<Figure size 576x576 with 1 Axes>"
            ],
            "image/png": "[encoded data removed]"
          },
          "metadata": {
            "needs_background": "light"
          }
        }
      ]
    },
    {
      "cell_type": "markdown",
      "source": [
        "# Conclusiones"
      ],
      "metadata": {
        "id": "ENokqFyHFN8q"
      }
    },
    {
      "cell_type": "markdown",
      "source": [
        "Hemos aplicado el modelo para cada una de las clases objetivo, y también usando dos conjunto de datos donde en uno estan todos los datos completos y otro donde solo los correspondientes a las 40 preguntas del test vak.\n",
        "\n",
        "Como se puede ver para cada tipo de clase objetivo, de manera general tenemos combinaciones de alta precision con alto recall(para las clases visual y kinestesico) y alta precisión y bajo recall(para la clase auditiva).\n",
        "\n",
        "En la clase objetivo kinestesica el modelo parece ser estable en ambos  conjuntos de datos.\n",
        "Para la clase objetivo visual, con el conjunto de datos que usa todos los datos el modelo parece disminuir un poco la precision y el recall.\n",
        "\n",
        "Y para el auditivo con el conjunto de datos que usa todos los datos pierde un poco de precision pero gana un poco de recall encomparacion con el conjunto que solo tiene las 40 preguntas del test.\n",
        "\n",
        "Respecto al accuracy se puede decir que en cada clase objetivo se mantuvo estable con cada conjunto de datos."
      ],
      "metadata": {
        "id": "N-rFRsleTvAC"
      }
    }
  ]
}