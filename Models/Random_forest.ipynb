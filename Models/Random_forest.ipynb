{
  "nbformat": 4,
  "nbformat_minor": 0,
  "metadata": {
    "colab": {
      "provenance": []
    },
    "kernelspec": {
      "name": "python3",
      "display_name": "Python 3"
    },
    "language_info": {
      "name": "python"
    }
  },
  "cells": [
    {
      "cell_type": "markdown",
      "source": [
        "# Random Forest: Clasificación \n",
        "\n",
        "\n",
        "Se elijio este método de ensamble basado en árboles de decisión entrenados aleatoriamente con el objetivo de disminuir la varianza y evitar sobre-entrenamiento.\n",
        "\n",
        "Ventajas:\n",
        "Método robusto\n",
        "Evita sobre-entrenamiento\n",
        "Disminuye la varianza en la predicción respecto a los árboles de decisión\n",
        "Prioriza las características más importantes\n",
        "\n",
        "Desventajas:\n",
        "Pueden ser lentos con grandes cantidades de datos\n",
        "La interpretación del modelo no es transparente:"
      ],
      "metadata": {
        "id": "DD4Isrf6wzrv"
      }
    },
    {
      "cell_type": "code",
      "source": [
        "# from google.colab import drive\n",
        "# drive.mount('/content/drive')"
      ],
      "metadata": {
        "id": "7nXxx0wahAs8"
      },
      "execution_count": 1,
      "outputs": []
    },
    {
      "cell_type": "code",
      "execution_count": 2,
      "metadata": {
        "id": "HwwosbiVgprR"
      },
      "outputs": [],
      "source": [
        "#cargar librerias\n",
        "%matplotlib inline\n",
        "import numpy as np\n",
        "import matplotlib.pyplot as plt\n",
        "import pandas as pd\n",
        "from sklearn.ensemble import RandomForestClassifier"
      ]
    },
    {
      "cell_type": "code",
      "source": [
        "# Carga del dataset\n",
        "# link al csv de la encuesta\n",
        "# https://docs.google.com/spreadsheets/d/12JOIifaUdaTBLks6ESjN8_iq9Jd9LyP9B6zIixfZBlQ/edit#gid=1424447045\n",
        "df_estilos_aprendizaje = pd.read_csv('/content/drive/MyDrive/Colab Notebooks/estilos_aprendizaje_codificado.csv')\n",
        "\n",
        "\n",
        "# Muestra datos\n",
        "df_estilos_aprendizaje.head()"
      ],
      "metadata": {
        "colab": {
          "base_uri": "https://localhost:8080/",
          "height": 236
        },
        "id": "m88zTYndg7k4",
        "outputId": "2c486d5e-1e63-4f8f-d73f-d047732c504d"
      },
      "execution_count": 3,
      "outputs": [
        {
          "output_type": "execute_result",
          "data": {
            "text/plain": [
              "    v   a   k  v_percent  a_percent  k_percent  grado_max_estudios  sexo  \\\n",
              "0  20  10  10       50.0       25.0       25.0                 2.0   0.0   \n",
              "1  10  20  10       25.0       50.0       25.0                 2.0   1.0   \n",
              "2  13   9  18       32.5       22.5       45.0                 2.0   1.0   \n",
              "3  16   7  17       40.0       17.5       42.5                 2.0   1.0   \n",
              "4  13  16  11       32.5       40.0       27.5                 2.0   1.0   \n",
              "\n",
              "   edicion_saturdays_ai  area  ...   33   34   35   36   37   38   39   40  \\\n",
              "0                   4.0   0.0  ...  2.0  1.0  2.0  1.0  2.0  0.0  0.0  2.0   \n",
              "1                   4.0   1.0  ...  1.0  1.0  1.0  0.0  1.0  1.0  1.0  1.0   \n",
              "2                   4.0   1.0  ...  2.0  1.0  2.0  2.0  0.0  0.0  1.0  2.0   \n",
              "3                   4.0   1.0  ...  0.0  2.0  2.0  0.0  0.0  2.0  1.0  2.0   \n",
              "4                   4.0   1.0  ...  2.0  1.0  1.0  0.0  1.0  1.0  1.0  1.0   \n",
              "\n",
              "   estilo_primario-encoded  estilo_primario  \n",
              "0                      2.0           visual  \n",
              "1                      0.0         auditivo  \n",
              "2                      1.0      kinestesico  \n",
              "3                      1.0      kinestesico  \n",
              "4                      0.0         auditivo  \n",
              "\n",
              "[5 rows x 53 columns]"
            ],
            "text/html": [
              "\n",
              "  <div id=\"df-09175eb4-f07b-4f90-bcae-d61b436a3b35\">\n",
              "    <div class=\"colab-df-container\">\n",
              "      <div>\n",
              "<style scoped>\n",
              "    .dataframe tbody tr th:only-of-type {\n",
              "        vertical-align: middle;\n",
              "    }\n",
              "\n",
              "    .dataframe tbody tr th {\n",
              "        vertical-align: top;\n",
              "    }\n",
              "\n",
              "    .dataframe thead th {\n",
              "        text-align: right;\n",
              "    }\n",
              "</style>\n",
              "<table border=\"1\" class=\"dataframe\">\n",
              "  <thead>\n",
              "    <tr style=\"text-align: right;\">\n",
              "      <th></th>\n",
              "      <th>v</th>\n",
              "      <th>a</th>\n",
              "      <th>k</th>\n",
              "      <th>v_percent</th>\n",
              "      <th>a_percent</th>\n",
              "      <th>k_percent</th>\n",
              "      <th>grado_max_estudios</th>\n",
              "      <th>sexo</th>\n",
              "      <th>edicion_saturdays_ai</th>\n",
              "      <th>area</th>\n",
              "      <th>...</th>\n",
              "      <th>33</th>\n",
              "      <th>34</th>\n",
              "      <th>35</th>\n",
              "      <th>36</th>\n",
              "      <th>37</th>\n",
              "      <th>38</th>\n",
              "      <th>39</th>\n",
              "      <th>40</th>\n",
              "      <th>estilo_primario-encoded</th>\n",
              "      <th>estilo_primario</th>\n",
              "    </tr>\n",
              "  </thead>\n",
              "  <tbody>\n",
              "    <tr>\n",
              "      <th>0</th>\n",
              "      <td>20</td>\n",
              "      <td>10</td>\n",
              "      <td>10</td>\n",
              "      <td>50.0</td>\n",
              "      <td>25.0</td>\n",
              "      <td>25.0</td>\n",
              "      <td>2.0</td>\n",
              "      <td>0.0</td>\n",
              "      <td>4.0</td>\n",
              "      <td>0.0</td>\n",
              "      <td>...</td>\n",
              "      <td>2.0</td>\n",
              "      <td>1.0</td>\n",
              "      <td>2.0</td>\n",
              "      <td>1.0</td>\n",
              "      <td>2.0</td>\n",
              "      <td>0.0</td>\n",
              "      <td>0.0</td>\n",
              "      <td>2.0</td>\n",
              "      <td>2.0</td>\n",
              "      <td>visual</td>\n",
              "    </tr>\n",
              "    <tr>\n",
              "      <th>1</th>\n",
              "      <td>10</td>\n",
              "      <td>20</td>\n",
              "      <td>10</td>\n",
              "      <td>25.0</td>\n",
              "      <td>50.0</td>\n",
              "      <td>25.0</td>\n",
              "      <td>2.0</td>\n",
              "      <td>1.0</td>\n",
              "      <td>4.0</td>\n",
              "      <td>1.0</td>\n",
              "      <td>...</td>\n",
              "      <td>1.0</td>\n",
              "      <td>1.0</td>\n",
              "      <td>1.0</td>\n",
              "      <td>0.0</td>\n",
              "      <td>1.0</td>\n",
              "      <td>1.0</td>\n",
              "      <td>1.0</td>\n",
              "      <td>1.0</td>\n",
              "      <td>0.0</td>\n",
              "      <td>auditivo</td>\n",
              "    </tr>\n",
              "    <tr>\n",
              "      <th>2</th>\n",
              "      <td>13</td>\n",
              "      <td>9</td>\n",
              "      <td>18</td>\n",
              "      <td>32.5</td>\n",
              "      <td>22.5</td>\n",
              "      <td>45.0</td>\n",
              "      <td>2.0</td>\n",
              "      <td>1.0</td>\n",
              "      <td>4.0</td>\n",
              "      <td>1.0</td>\n",
              "      <td>...</td>\n",
              "      <td>2.0</td>\n",
              "      <td>1.0</td>\n",
              "      <td>2.0</td>\n",
              "      <td>2.0</td>\n",
              "      <td>0.0</td>\n",
              "      <td>0.0</td>\n",
              "      <td>1.0</td>\n",
              "      <td>2.0</td>\n",
              "      <td>1.0</td>\n",
              "      <td>kinestesico</td>\n",
              "    </tr>\n",
              "    <tr>\n",
              "      <th>3</th>\n",
              "      <td>16</td>\n",
              "      <td>7</td>\n",
              "      <td>17</td>\n",
              "      <td>40.0</td>\n",
              "      <td>17.5</td>\n",
              "      <td>42.5</td>\n",
              "      <td>2.0</td>\n",
              "      <td>1.0</td>\n",
              "      <td>4.0</td>\n",
              "      <td>1.0</td>\n",
              "      <td>...</td>\n",
              "      <td>0.0</td>\n",
              "      <td>2.0</td>\n",
              "      <td>2.0</td>\n",
              "      <td>0.0</td>\n",
              "      <td>0.0</td>\n",
              "      <td>2.0</td>\n",
              "      <td>1.0</td>\n",
              "      <td>2.0</td>\n",
              "      <td>1.0</td>\n",
              "      <td>kinestesico</td>\n",
              "    </tr>\n",
              "    <tr>\n",
              "      <th>4</th>\n",
              "      <td>13</td>\n",
              "      <td>16</td>\n",
              "      <td>11</td>\n",
              "      <td>32.5</td>\n",
              "      <td>40.0</td>\n",
              "      <td>27.5</td>\n",
              "      <td>2.0</td>\n",
              "      <td>1.0</td>\n",
              "      <td>4.0</td>\n",
              "      <td>1.0</td>\n",
              "      <td>...</td>\n",
              "      <td>2.0</td>\n",
              "      <td>1.0</td>\n",
              "      <td>1.0</td>\n",
              "      <td>0.0</td>\n",
              "      <td>1.0</td>\n",
              "      <td>1.0</td>\n",
              "      <td>1.0</td>\n",
              "      <td>1.0</td>\n",
              "      <td>0.0</td>\n",
              "      <td>auditivo</td>\n",
              "    </tr>\n",
              "  </tbody>\n",
              "</table>\n",
              "<p>5 rows × 53 columns</p>\n",
              "</div>\n",
              "      <button class=\"colab-df-convert\" onclick=\"convertToInteractive('df-09175eb4-f07b-4f90-bcae-d61b436a3b35')\"\n",
              "              title=\"Convert this dataframe to an interactive table.\"\n",
              "              style=\"display:none;\">\n",
              "        \n",
              "  <svg xmlns=\"http://www.w3.org/2000/svg\" height=\"24px\"viewBox=\"0 0 24 24\"\n",
              "       width=\"24px\">\n",
              "    <path d=\"M0 0h24v24H0V0z\" fill=\"none\"/>\n",
              "    <path d=\"M18.56 5.44l.94 2.06.94-2.06 2.06-.94-2.06-.94-.94-2.06-.94 2.06-2.06.94zm-11 1L8.5 8.5l.94-2.06 2.06-.94-2.06-.94L8.5 2.5l-.94 2.06-2.06.94zm10 10l.94 2.06.94-2.06 2.06-.94-2.06-.94-.94-2.06-.94 2.06-2.06.94z\"/><path d=\"M17.41 7.96l-1.37-1.37c-.4-.4-.92-.59-1.43-.59-.52 0-1.04.2-1.43.59L10.3 9.45l-7.72 7.72c-.78.78-.78 2.05 0 2.83L4 21.41c.39.39.9.59 1.41.59.51 0 1.02-.2 1.41-.59l7.78-7.78 2.81-2.81c.8-.78.8-2.07 0-2.86zM5.41 20L4 18.59l7.72-7.72 1.47 1.35L5.41 20z\"/>\n",
              "  </svg>\n",
              "      </button>\n",
              "      \n",
              "  <style>\n",
              "    .colab-df-container {\n",
              "      display:flex;\n",
              "      flex-wrap:wrap;\n",
              "      gap: 12px;\n",
              "    }\n",
              "\n",
              "    .colab-df-convert {\n",
              "      background-color: #E8F0FE;\n",
              "      border: none;\n",
              "      border-radius: 50%;\n",
              "      cursor: pointer;\n",
              "      display: none;\n",
              "      fill: #1967D2;\n",
              "      height: 32px;\n",
              "      padding: 0 0 0 0;\n",
              "      width: 32px;\n",
              "    }\n",
              "\n",
              "    .colab-df-convert:hover {\n",
              "      background-color: #E2EBFA;\n",
              "      box-shadow: 0px 1px 2px rgba(60, 64, 67, 0.3), 0px 1px 3px 1px rgba(60, 64, 67, 0.15);\n",
              "      fill: #174EA6;\n",
              "    }\n",
              "\n",
              "    [theme=dark] .colab-df-convert {\n",
              "      background-color: #3B4455;\n",
              "      fill: #D2E3FC;\n",
              "    }\n",
              "\n",
              "    [theme=dark] .colab-df-convert:hover {\n",
              "      background-color: #434B5C;\n",
              "      box-shadow: 0px 1px 3px 1px rgba(0, 0, 0, 0.15);\n",
              "      filter: drop-shadow(0px 1px 2px rgba(0, 0, 0, 0.3));\n",
              "      fill: #FFFFFF;\n",
              "    }\n",
              "  </style>\n",
              "\n",
              "      <script>\n",
              "        const buttonEl =\n",
              "          document.querySelector('#df-09175eb4-f07b-4f90-bcae-d61b436a3b35 button.colab-df-convert');\n",
              "        buttonEl.style.display =\n",
              "          google.colab.kernel.accessAllowed ? 'block' : 'none';\n",
              "\n",
              "        async function convertToInteractive(key) {\n",
              "          const element = document.querySelector('#df-09175eb4-f07b-4f90-bcae-d61b436a3b35');\n",
              "          const dataTable =\n",
              "            await google.colab.kernel.invokeFunction('convertToInteractive',\n",
              "                                                     [key], {});\n",
              "          if (!dataTable) return;\n",
              "\n",
              "          const docLinkHtml = 'Like what you see? Visit the ' +\n",
              "            '<a target=\"_blank\" href=https://colab.research.google.com/notebooks/data_table.ipynb>data table notebook</a>'\n",
              "            + ' to learn more about interactive tables.';\n",
              "          element.innerHTML = '';\n",
              "          dataTable['output_type'] = 'display_data';\n",
              "          await google.colab.output.renderOutput(dataTable, element);\n",
              "          const docLink = document.createElement('div');\n",
              "          docLink.innerHTML = docLinkHtml;\n",
              "          element.appendChild(docLink);\n",
              "        }\n",
              "      </script>\n",
              "    </div>\n",
              "  </div>\n",
              "  "
            ]
          },
          "metadata": {},
          "execution_count": 3
        }
      ]
    },
    {
      "cell_type": "code",
      "source": [
        "df_estilos_aprendizaje.dtypes"
      ],
      "metadata": {
        "colab": {
          "base_uri": "https://localhost:8080/"
        },
        "id": "azv4Sp2NhSwC",
        "outputId": "c262ec07-84b8-417a-c163-7176150bb6e1"
      },
      "execution_count": 4,
      "outputs": [
        {
          "output_type": "execute_result",
          "data": {
            "text/plain": [
              "v                            int64\n",
              "a                            int64\n",
              "k                            int64\n",
              "v_percent                  float64\n",
              "a_percent                  float64\n",
              "k_percent                  float64\n",
              "grado_max_estudios         float64\n",
              "sexo                       float64\n",
              "edicion_saturdays_ai       float64\n",
              "area                       float64\n",
              "sector                     float64\n",
              "1                          float64\n",
              "2                          float64\n",
              "3                          float64\n",
              "4                          float64\n",
              "5                          float64\n",
              "6                          float64\n",
              "7                          float64\n",
              "8                          float64\n",
              "9                          float64\n",
              "10                         float64\n",
              "11                         float64\n",
              "12                         float64\n",
              "13                         float64\n",
              "14                         float64\n",
              "15                         float64\n",
              "16                         float64\n",
              "17                         float64\n",
              "18                         float64\n",
              "19                         float64\n",
              "20                         float64\n",
              "21                         float64\n",
              "22                         float64\n",
              "23                         float64\n",
              "24                         float64\n",
              "25                         float64\n",
              "26                         float64\n",
              "27                         float64\n",
              "28                         float64\n",
              "29                         float64\n",
              "30                         float64\n",
              "31                         float64\n",
              "32                         float64\n",
              "33                         float64\n",
              "34                         float64\n",
              "35                         float64\n",
              "36                         float64\n",
              "37                         float64\n",
              "38                         float64\n",
              "39                         float64\n",
              "40                         float64\n",
              "estilo_primario-encoded    float64\n",
              "estilo_primario             object\n",
              "dtype: object"
            ]
          },
          "metadata": {},
          "execution_count": 4
        }
      ]
    },
    {
      "cell_type": "code",
      "source": [
        "df_estilos_aprendizaje.info()"
      ],
      "metadata": {
        "colab": {
          "base_uri": "https://localhost:8080/"
        },
        "id": "gxrLasb3he2l",
        "outputId": "ad9bbc40-d506-4d31-ee70-cad44912f78e"
      },
      "execution_count": 5,
      "outputs": [
        {
          "output_type": "stream",
          "name": "stdout",
          "text": [
            "<class 'pandas.core.frame.DataFrame'>\n",
            "RangeIndex: 50 entries, 0 to 49\n",
            "Data columns (total 53 columns):\n",
            " #   Column                   Non-Null Count  Dtype  \n",
            "---  ------                   --------------  -----  \n",
            " 0   v                        50 non-null     int64  \n",
            " 1   a                        50 non-null     int64  \n",
            " 2   k                        50 non-null     int64  \n",
            " 3   v_percent                50 non-null     float64\n",
            " 4   a_percent                50 non-null     float64\n",
            " 5   k_percent                50 non-null     float64\n",
            " 6   grado_max_estudios       50 non-null     float64\n",
            " 7   sexo                     50 non-null     float64\n",
            " 8   edicion_saturdays_ai     50 non-null     float64\n",
            " 9   area                     50 non-null     float64\n",
            " 10  sector                   50 non-null     float64\n",
            " 11  1                        50 non-null     float64\n",
            " 12  2                        50 non-null     float64\n",
            " 13  3                        50 non-null     float64\n",
            " 14  4                        50 non-null     float64\n",
            " 15  5                        50 non-null     float64\n",
            " 16  6                        50 non-null     float64\n",
            " 17  7                        50 non-null     float64\n",
            " 18  8                        50 non-null     float64\n",
            " 19  9                        50 non-null     float64\n",
            " 20  10                       50 non-null     float64\n",
            " 21  11                       50 non-null     float64\n",
            " 22  12                       50 non-null     float64\n",
            " 23  13                       50 non-null     float64\n",
            " 24  14                       50 non-null     float64\n",
            " 25  15                       50 non-null     float64\n",
            " 26  16                       50 non-null     float64\n",
            " 27  17                       50 non-null     float64\n",
            " 28  18                       50 non-null     float64\n",
            " 29  19                       50 non-null     float64\n",
            " 30  20                       50 non-null     float64\n",
            " 31  21                       50 non-null     float64\n",
            " 32  22                       50 non-null     float64\n",
            " 33  23                       50 non-null     float64\n",
            " 34  24                       50 non-null     float64\n",
            " 35  25                       50 non-null     float64\n",
            " 36  26                       50 non-null     float64\n",
            " 37  27                       50 non-null     float64\n",
            " 38  28                       50 non-null     float64\n",
            " 39  29                       50 non-null     float64\n",
            " 40  30                       50 non-null     float64\n",
            " 41  31                       50 non-null     float64\n",
            " 42  32                       50 non-null     float64\n",
            " 43  33                       50 non-null     float64\n",
            " 44  34                       50 non-null     float64\n",
            " 45  35                       50 non-null     float64\n",
            " 46  36                       50 non-null     float64\n",
            " 47  37                       50 non-null     float64\n",
            " 48  38                       50 non-null     float64\n",
            " 49  39                       50 non-null     float64\n",
            " 50  40                       50 non-null     float64\n",
            " 51  estilo_primario-encoded  50 non-null     float64\n",
            " 52  estilo_primario          50 non-null     object \n",
            "dtypes: float64(49), int64(3), object(1)\n",
            "memory usage: 20.8+ KB\n"
          ]
        }
      ]
    },
    {
      "cell_type": "code",
      "source": [
        "# Seleccionamos las características para el modelo\n",
        "data = df_estilos_aprendizaje[[\n",
        "       '1', '2', '3', '4', '5', '6', '7', '8', '9', '10', '11', '12', '13',\n",
        "       '14', '15', '16', '17', '18', '19', '20', '21', '22', '23', '24', '25',\n",
        "       '26', '27', '28', '29', '30', '31', '32', '33', '34', '35', '36', '37',\n",
        "       '38', '39', '40','estilo_primario']]\n",
        "data.head()"
      ],
      "metadata": {
        "colab": {
          "base_uri": "https://localhost:8080/",
          "height": 236
        },
        "id": "oDGQujqphmU7",
        "outputId": "5e6f7cb1-c909-453e-9d85-33a614c2a037"
      },
      "execution_count": 6,
      "outputs": [
        {
          "output_type": "execute_result",
          "data": {
            "text/plain": [
              "     1    2    3    4    5    6    7    8    9   10  ...   32   33   34   35  \\\n",
              "0  0.0  2.0  1.0  0.0  0.0  0.0  0.0  0.0  1.0  1.0  ...  0.0  2.0  1.0  2.0   \n",
              "1  0.0  0.0  1.0  1.0  2.0  0.0  0.0  1.0  1.0  2.0  ...  2.0  1.0  1.0  1.0   \n",
              "2  1.0  2.0  1.0  1.0  0.0  2.0  0.0  2.0  2.0  0.0  ...  2.0  2.0  1.0  2.0   \n",
              "3  0.0  0.0  1.0  2.0  1.0  2.0  0.0  0.0  2.0  2.0  ...  0.0  0.0  2.0  2.0   \n",
              "4  1.0  2.0  1.0  2.0  2.0  2.0  0.0  2.0  2.0  0.0  ...  2.0  2.0  1.0  1.0   \n",
              "\n",
              "    36   37   38   39   40  estilo_primario  \n",
              "0  1.0  2.0  0.0  0.0  2.0           visual  \n",
              "1  0.0  1.0  1.0  1.0  1.0         auditivo  \n",
              "2  2.0  0.0  0.0  1.0  2.0      kinestesico  \n",
              "3  0.0  0.0  2.0  1.0  2.0      kinestesico  \n",
              "4  0.0  1.0  1.0  1.0  1.0         auditivo  \n",
              "\n",
              "[5 rows x 41 columns]"
            ],
            "text/html": [
              "\n",
              "  <div id=\"df-b4acf860-dd65-4630-b81f-023fe5a6d955\">\n",
              "    <div class=\"colab-df-container\">\n",
              "      <div>\n",
              "<style scoped>\n",
              "    .dataframe tbody tr th:only-of-type {\n",
              "        vertical-align: middle;\n",
              "    }\n",
              "\n",
              "    .dataframe tbody tr th {\n",
              "        vertical-align: top;\n",
              "    }\n",
              "\n",
              "    .dataframe thead th {\n",
              "        text-align: right;\n",
              "    }\n",
              "</style>\n",
              "<table border=\"1\" class=\"dataframe\">\n",
              "  <thead>\n",
              "    <tr style=\"text-align: right;\">\n",
              "      <th></th>\n",
              "      <th>1</th>\n",
              "      <th>2</th>\n",
              "      <th>3</th>\n",
              "      <th>4</th>\n",
              "      <th>5</th>\n",
              "      <th>6</th>\n",
              "      <th>7</th>\n",
              "      <th>8</th>\n",
              "      <th>9</th>\n",
              "      <th>10</th>\n",
              "      <th>...</th>\n",
              "      <th>32</th>\n",
              "      <th>33</th>\n",
              "      <th>34</th>\n",
              "      <th>35</th>\n",
              "      <th>36</th>\n",
              "      <th>37</th>\n",
              "      <th>38</th>\n",
              "      <th>39</th>\n",
              "      <th>40</th>\n",
              "      <th>estilo_primario</th>\n",
              "    </tr>\n",
              "  </thead>\n",
              "  <tbody>\n",
              "    <tr>\n",
              "      <th>0</th>\n",
              "      <td>0.0</td>\n",
              "      <td>2.0</td>\n",
              "      <td>1.0</td>\n",
              "      <td>0.0</td>\n",
              "      <td>0.0</td>\n",
              "      <td>0.0</td>\n",
              "      <td>0.0</td>\n",
              "      <td>0.0</td>\n",
              "      <td>1.0</td>\n",
              "      <td>1.0</td>\n",
              "      <td>...</td>\n",
              "      <td>0.0</td>\n",
              "      <td>2.0</td>\n",
              "      <td>1.0</td>\n",
              "      <td>2.0</td>\n",
              "      <td>1.0</td>\n",
              "      <td>2.0</td>\n",
              "      <td>0.0</td>\n",
              "      <td>0.0</td>\n",
              "      <td>2.0</td>\n",
              "      <td>visual</td>\n",
              "    </tr>\n",
              "    <tr>\n",
              "      <th>1</th>\n",
              "      <td>0.0</td>\n",
              "      <td>0.0</td>\n",
              "      <td>1.0</td>\n",
              "      <td>1.0</td>\n",
              "      <td>2.0</td>\n",
              "      <td>0.0</td>\n",
              "      <td>0.0</td>\n",
              "      <td>1.0</td>\n",
              "      <td>1.0</td>\n",
              "      <td>2.0</td>\n",
              "      <td>...</td>\n",
              "      <td>2.0</td>\n",
              "      <td>1.0</td>\n",
              "      <td>1.0</td>\n",
              "      <td>1.0</td>\n",
              "      <td>0.0</td>\n",
              "      <td>1.0</td>\n",
              "      <td>1.0</td>\n",
              "      <td>1.0</td>\n",
              "      <td>1.0</td>\n",
              "      <td>auditivo</td>\n",
              "    </tr>\n",
              "    <tr>\n",
              "      <th>2</th>\n",
              "      <td>1.0</td>\n",
              "      <td>2.0</td>\n",
              "      <td>1.0</td>\n",
              "      <td>1.0</td>\n",
              "      <td>0.0</td>\n",
              "      <td>2.0</td>\n",
              "      <td>0.0</td>\n",
              "      <td>2.0</td>\n",
              "      <td>2.0</td>\n",
              "      <td>0.0</td>\n",
              "      <td>...</td>\n",
              "      <td>2.0</td>\n",
              "      <td>2.0</td>\n",
              "      <td>1.0</td>\n",
              "      <td>2.0</td>\n",
              "      <td>2.0</td>\n",
              "      <td>0.0</td>\n",
              "      <td>0.0</td>\n",
              "      <td>1.0</td>\n",
              "      <td>2.0</td>\n",
              "      <td>kinestesico</td>\n",
              "    </tr>\n",
              "    <tr>\n",
              "      <th>3</th>\n",
              "      <td>0.0</td>\n",
              "      <td>0.0</td>\n",
              "      <td>1.0</td>\n",
              "      <td>2.0</td>\n",
              "      <td>1.0</td>\n",
              "      <td>2.0</td>\n",
              "      <td>0.0</td>\n",
              "      <td>0.0</td>\n",
              "      <td>2.0</td>\n",
              "      <td>2.0</td>\n",
              "      <td>...</td>\n",
              "      <td>0.0</td>\n",
              "      <td>0.0</td>\n",
              "      <td>2.0</td>\n",
              "      <td>2.0</td>\n",
              "      <td>0.0</td>\n",
              "      <td>0.0</td>\n",
              "      <td>2.0</td>\n",
              "      <td>1.0</td>\n",
              "      <td>2.0</td>\n",
              "      <td>kinestesico</td>\n",
              "    </tr>\n",
              "    <tr>\n",
              "      <th>4</th>\n",
              "      <td>1.0</td>\n",
              "      <td>2.0</td>\n",
              "      <td>1.0</td>\n",
              "      <td>2.0</td>\n",
              "      <td>2.0</td>\n",
              "      <td>2.0</td>\n",
              "      <td>0.0</td>\n",
              "      <td>2.0</td>\n",
              "      <td>2.0</td>\n",
              "      <td>0.0</td>\n",
              "      <td>...</td>\n",
              "      <td>2.0</td>\n",
              "      <td>2.0</td>\n",
              "      <td>1.0</td>\n",
              "      <td>1.0</td>\n",
              "      <td>0.0</td>\n",
              "      <td>1.0</td>\n",
              "      <td>1.0</td>\n",
              "      <td>1.0</td>\n",
              "      <td>1.0</td>\n",
              "      <td>auditivo</td>\n",
              "    </tr>\n",
              "  </tbody>\n",
              "</table>\n",
              "<p>5 rows × 41 columns</p>\n",
              "</div>\n",
              "      <button class=\"colab-df-convert\" onclick=\"convertToInteractive('df-b4acf860-dd65-4630-b81f-023fe5a6d955')\"\n",
              "              title=\"Convert this dataframe to an interactive table.\"\n",
              "              style=\"display:none;\">\n",
              "        \n",
              "  <svg xmlns=\"http://www.w3.org/2000/svg\" height=\"24px\"viewBox=\"0 0 24 24\"\n",
              "       width=\"24px\">\n",
              "    <path d=\"M0 0h24v24H0V0z\" fill=\"none\"/>\n",
              "    <path d=\"M18.56 5.44l.94 2.06.94-2.06 2.06-.94-2.06-.94-.94-2.06-.94 2.06-2.06.94zm-11 1L8.5 8.5l.94-2.06 2.06-.94-2.06-.94L8.5 2.5l-.94 2.06-2.06.94zm10 10l.94 2.06.94-2.06 2.06-.94-2.06-.94-.94-2.06-.94 2.06-2.06.94z\"/><path d=\"M17.41 7.96l-1.37-1.37c-.4-.4-.92-.59-1.43-.59-.52 0-1.04.2-1.43.59L10.3 9.45l-7.72 7.72c-.78.78-.78 2.05 0 2.83L4 21.41c.39.39.9.59 1.41.59.51 0 1.02-.2 1.41-.59l7.78-7.78 2.81-2.81c.8-.78.8-2.07 0-2.86zM5.41 20L4 18.59l7.72-7.72 1.47 1.35L5.41 20z\"/>\n",
              "  </svg>\n",
              "      </button>\n",
              "      \n",
              "  <style>\n",
              "    .colab-df-container {\n",
              "      display:flex;\n",
              "      flex-wrap:wrap;\n",
              "      gap: 12px;\n",
              "    }\n",
              "\n",
              "    .colab-df-convert {\n",
              "      background-color: #E8F0FE;\n",
              "      border: none;\n",
              "      border-radius: 50%;\n",
              "      cursor: pointer;\n",
              "      display: none;\n",
              "      fill: #1967D2;\n",
              "      height: 32px;\n",
              "      padding: 0 0 0 0;\n",
              "      width: 32px;\n",
              "    }\n",
              "\n",
              "    .colab-df-convert:hover {\n",
              "      background-color: #E2EBFA;\n",
              "      box-shadow: 0px 1px 2px rgba(60, 64, 67, 0.3), 0px 1px 3px 1px rgba(60, 64, 67, 0.15);\n",
              "      fill: #174EA6;\n",
              "    }\n",
              "\n",
              "    [theme=dark] .colab-df-convert {\n",
              "      background-color: #3B4455;\n",
              "      fill: #D2E3FC;\n",
              "    }\n",
              "\n",
              "    [theme=dark] .colab-df-convert:hover {\n",
              "      background-color: #434B5C;\n",
              "      box-shadow: 0px 1px 3px 1px rgba(0, 0, 0, 0.15);\n",
              "      filter: drop-shadow(0px 1px 2px rgba(0, 0, 0, 0.3));\n",
              "      fill: #FFFFFF;\n",
              "    }\n",
              "  </style>\n",
              "\n",
              "      <script>\n",
              "        const buttonEl =\n",
              "          document.querySelector('#df-b4acf860-dd65-4630-b81f-023fe5a6d955 button.colab-df-convert');\n",
              "        buttonEl.style.display =\n",
              "          google.colab.kernel.accessAllowed ? 'block' : 'none';\n",
              "\n",
              "        async function convertToInteractive(key) {\n",
              "          const element = document.querySelector('#df-b4acf860-dd65-4630-b81f-023fe5a6d955');\n",
              "          const dataTable =\n",
              "            await google.colab.kernel.invokeFunction('convertToInteractive',\n",
              "                                                     [key], {});\n",
              "          if (!dataTable) return;\n",
              "\n",
              "          const docLinkHtml = 'Like what you see? Visit the ' +\n",
              "            '<a target=\"_blank\" href=https://colab.research.google.com/notebooks/data_table.ipynb>data table notebook</a>'\n",
              "            + ' to learn more about interactive tables.';\n",
              "          element.innerHTML = '';\n",
              "          dataTable['output_type'] = 'display_data';\n",
              "          await google.colab.output.renderOutput(dataTable, element);\n",
              "          const docLink = document.createElement('div');\n",
              "          docLink.innerHTML = docLinkHtml;\n",
              "          element.appendChild(docLink);\n",
              "        }\n",
              "      </script>\n",
              "    </div>\n",
              "  </div>\n",
              "  "
            ]
          },
          "metadata": {},
          "execution_count": 6
        }
      ]
    },
    {
      "cell_type": "code",
      "source": [
        "# Información del dataset\n",
        "data.info()"
      ],
      "metadata": {
        "colab": {
          "base_uri": "https://localhost:8080/"
        },
        "id": "TnEiEHdbAdZv",
        "outputId": "6803f219-7888-4bc7-f23c-1e85566e4a61"
      },
      "execution_count": 7,
      "outputs": [
        {
          "output_type": "stream",
          "name": "stdout",
          "text": [
            "<class 'pandas.core.frame.DataFrame'>\n",
            "RangeIndex: 50 entries, 0 to 49\n",
            "Data columns (total 41 columns):\n",
            " #   Column           Non-Null Count  Dtype  \n",
            "---  ------           --------------  -----  \n",
            " 0   1                50 non-null     float64\n",
            " 1   2                50 non-null     float64\n",
            " 2   3                50 non-null     float64\n",
            " 3   4                50 non-null     float64\n",
            " 4   5                50 non-null     float64\n",
            " 5   6                50 non-null     float64\n",
            " 6   7                50 non-null     float64\n",
            " 7   8                50 non-null     float64\n",
            " 8   9                50 non-null     float64\n",
            " 9   10               50 non-null     float64\n",
            " 10  11               50 non-null     float64\n",
            " 11  12               50 non-null     float64\n",
            " 12  13               50 non-null     float64\n",
            " 13  14               50 non-null     float64\n",
            " 14  15               50 non-null     float64\n",
            " 15  16               50 non-null     float64\n",
            " 16  17               50 non-null     float64\n",
            " 17  18               50 non-null     float64\n",
            " 18  19               50 non-null     float64\n",
            " 19  20               50 non-null     float64\n",
            " 20  21               50 non-null     float64\n",
            " 21  22               50 non-null     float64\n",
            " 22  23               50 non-null     float64\n",
            " 23  24               50 non-null     float64\n",
            " 24  25               50 non-null     float64\n",
            " 25  26               50 non-null     float64\n",
            " 26  27               50 non-null     float64\n",
            " 27  28               50 non-null     float64\n",
            " 28  29               50 non-null     float64\n",
            " 29  30               50 non-null     float64\n",
            " 30  31               50 non-null     float64\n",
            " 31  32               50 non-null     float64\n",
            " 32  33               50 non-null     float64\n",
            " 33  34               50 non-null     float64\n",
            " 34  35               50 non-null     float64\n",
            " 35  36               50 non-null     float64\n",
            " 36  37               50 non-null     float64\n",
            " 37  38               50 non-null     float64\n",
            " 38  39               50 non-null     float64\n",
            " 39  40               50 non-null     float64\n",
            " 40  estilo_primario  50 non-null     object \n",
            "dtypes: float64(40), object(1)\n",
            "memory usage: 16.1+ KB\n"
          ]
        }
      ]
    },
    {
      "cell_type": "code",
      "source": [
        "# Dividimos los datos en entrenamiento y prueba\n",
        "from sklearn.model_selection import train_test_split\n",
        "# X son nuestras variables independientes\n",
        "X = data.drop([\"estilo_primario\"],axis = 1)\n",
        "\n",
        "# y es nuestra variable dependiente\n",
        "y = data.estilo_primario\n",
        "\n",
        "# División 75% de datos para entrenamiento, 25% de daatos para test\n",
        "X_train, X_test, y_train, y_test = train_test_split(X, y,random_state=0)"
      ],
      "metadata": {
        "id": "6Xm_lJYQEXHD"
      },
      "execution_count": 8,
      "outputs": []
    },
    {
      "cell_type": "code",
      "source": [
        "# Creaamos el modelo de Bosques Aleatorios (y configuramos el número de estimadores (árboles de decisión))\n",
        "BA_model = RandomForestClassifier(n_estimators = 100, \n",
        "                                  random_state = 0,\n",
        "                                  min_samples_leaf = 8,)"
      ],
      "metadata": {
        "id": "WL1fzKkNE05J"
      },
      "execution_count": 9,
      "outputs": []
    },
    {
      "cell_type": "code",
      "source": [
        "BA_model.fit(X_train, y_train)"
      ],
      "metadata": {
        "colab": {
          "base_uri": "https://localhost:8080/"
        },
        "id": "KLvBYgWAE5xN",
        "outputId": "16b33d5f-2b26-4d05-e1e9-c949c58f10ae"
      },
      "execution_count": 10,
      "outputs": [
        {
          "output_type": "execute_result",
          "data": {
            "text/plain": [
              "RandomForestClassifier(min_samples_leaf=8, random_state=0)"
            ]
          },
          "metadata": {},
          "execution_count": 10
        }
      ]
    },
    {
      "cell_type": "code",
      "source": [
        "len(BA_model.estimators_)"
      ],
      "metadata": {
        "colab": {
          "base_uri": "https://localhost:8080/"
        },
        "id": "aASvDGqMQMZw",
        "outputId": "67d392b4-b6d5-410c-c28e-0dbb0bd45425"
      },
      "execution_count": 12,
      "outputs": [
        {
          "output_type": "execute_result",
          "data": {
            "text/plain": [
              "100"
            ]
          },
          "metadata": {},
          "execution_count": 12
        }
      ]
    },
    {
      "cell_type": "code",
      "source": [
        "from sklearn import tree\n",
        "plt.figure(figsize=(5,5))\n",
        "_ = tree.plot_tree(BA_model.estimators_[0], feature_names=X.columns, filled=True)"
      ],
      "metadata": {
        "colab": {
          "base_uri": "https://localhost:8080/",
          "height": 303
        },
        "id": "3CvwpLjSQaE-",
        "outputId": "89b3ab72-81de-4d2d-9f16-065deb95a349"
      },
      "execution_count": 27,
      "outputs": [
        {
          "output_type": "display_data",
          "data": {
            "text/plain": [
              "<Figure size 360x360 with 1 Axes>"
            ],
            "image/png": "[encoded data removed]"
          },
          "metadata": {
            "needs_background": "light"
          }
        }
      ]
    },
    {
      "cell_type": "code",
      "source": [
        "# Accuracy promedio\n",
        "BA_model.score(X_test, y_test)"
      ],
      "metadata": {
        "colab": {
          "base_uri": "https://localhost:8080/"
        },
        "id": "PqqNiO1mFGM9",
        "outputId": "552545d4-8fef-4fd1-b189-3c41f8164c65"
      },
      "execution_count": 38,
      "outputs": [
        {
          "output_type": "execute_result",
          "data": {
            "text/plain": [
              "0.6153846153846154"
            ]
          },
          "metadata": {},
          "execution_count": 38
        }
      ]
    },
    {
      "cell_type": "code",
      "source": [
        "y_pred=BA_model.predict(X_test)"
      ],
      "metadata": {
        "id": "3qrcZki5RGFh"
      },
      "execution_count": 31,
      "outputs": []
    },
    {
      "cell_type": "code",
      "source": [
        "index = np.arange(0,len(y_test))\n",
        "fig, ax = plt.subplots(1,1,figsize=(15,5))\n",
        "plt.scatter(index,y_test,c=\"red\",label = 'True Value')\n",
        "plt.scatter(index,y_pred,c=\"blue\", label = 'Predicted Value')\n",
        "\n",
        "plt.legend()"
      ],
      "metadata": {
        "colab": {
          "base_uri": "https://localhost:8080/",
          "height": 338
        },
        "id": "XMjBqu0sRNPK",
        "outputId": "a767086e-153d-4433-f424-c809e8d98f99"
      },
      "execution_count": 32,
      "outputs": [
        {
          "output_type": "execute_result",
          "data": {
            "text/plain": [
              "<matplotlib.legend.Legend at 0x7fafd822ca90>"
            ]
          },
          "metadata": {},
          "execution_count": 32
        },
        {
          "output_type": "display_data",
          "data": {
            "text/plain": [
              "<Figure size 1080x360 with 1 Axes>"
            ],
            "image/png": "[encoded data removed]"
          },
          "metadata": {
            "needs_background": "light"
          }
        }
      ]
    },
    {
      "cell_type": "code",
      "source": [
        "from mlxtend.plotting import plot_confusion_matrix\n",
        "from sklearn.metrics import confusion_matrix\n",
        "import seaborn as sns\n",
        "\n",
        "# Predicción del modelo usando los datos de prueba\n",
        "y_pred = BA_model.predict(X_test)\n",
        "matriz = confusion_matrix(y_test,y_pred)\n",
        "plt.figure(figsize=(10, 7))\n",
        "sns.heatmap(matriz, annot=True)"
      ],
      "metadata": {
        "colab": {
          "base_uri": "https://localhost:8080/",
          "height": 450
        },
        "id": "IIpnZoFLFNKc",
        "outputId": "0cc99077-b217-463f-e420-6a787529d565"
      },
      "execution_count": 33,
      "outputs": [
        {
          "output_type": "execute_result",
          "data": {
            "text/plain": [
              "<matplotlib.axes._subplots.AxesSubplot at 0x7fafd8211590>"
            ]
          },
          "metadata": {},
          "execution_count": 33
        },
        {
          "output_type": "display_data",
          "data": {
            "text/plain": [
              "<Figure size 720x504 with 2 Axes>"
            ],
            "image/png": "[encoded data removed]"
          },
          "metadata": {
            "needs_background": "light"
          }
        }
      ]
    },
    {
      "cell_type": "markdown",
      "source": [],
      "metadata": {
        "id": "a08RS0CC5rN6"
      }
    },
    {
      "cell_type": "code",
      "source": [
        "# Seleccionamos las características para el modelo\n",
        "data2 = df_estilos_aprendizaje[[\n",
        "      'sexo','sector', 'grado_max_estudios','edicion_saturdays_ai','area',\n",
        "       '1', '2', '3', '4', '5', '6', '7', '8', '9', '10', '11', '12', '13',\n",
        "       '14', '15', '16', '17', '18', '19', '20', '21', '22', '23', '24', '25',\n",
        "       '26', '27', '28', '29', '30', '31', '32', '33', '34', '35', '36', '37',\n",
        "       '38', '39', '40','estilo_primario']]\n",
        "data2.head()"
      ],
      "metadata": {
        "colab": {
          "base_uri": "https://localhost:8080/",
          "height": 236
        },
        "id": "88Vm-u7L5qwr",
        "outputId": "372c344f-e48e-44ac-b12d-122507332a3c"
      },
      "execution_count": 48,
      "outputs": [
        {
          "output_type": "execute_result",
          "data": {
            "text/plain": [
              "   sexo  sector  grado_max_estudios  edicion_saturdays_ai  area    1    2  \\\n",
              "0   0.0     2.0                 2.0                   4.0   0.0  0.0  2.0   \n",
              "1   1.0     4.0                 2.0                   4.0   1.0  0.0  0.0   \n",
              "2   1.0     4.0                 2.0                   4.0   1.0  1.0  2.0   \n",
              "3   1.0     4.0                 2.0                   4.0   1.0  0.0  0.0   \n",
              "4   1.0     3.0                 2.0                   4.0   1.0  1.0  2.0   \n",
              "\n",
              "     3    4    5  ...   32   33   34   35   36   37   38   39   40  \\\n",
              "0  1.0  0.0  0.0  ...  0.0  2.0  1.0  2.0  1.0  2.0  0.0  0.0  2.0   \n",
              "1  1.0  1.0  2.0  ...  2.0  1.0  1.0  1.0  0.0  1.0  1.0  1.0  1.0   \n",
              "2  1.0  1.0  0.0  ...  2.0  2.0  1.0  2.0  2.0  0.0  0.0  1.0  2.0   \n",
              "3  1.0  2.0  1.0  ...  0.0  0.0  2.0  2.0  0.0  0.0  2.0  1.0  2.0   \n",
              "4  1.0  2.0  2.0  ...  2.0  2.0  1.0  1.0  0.0  1.0  1.0  1.0  1.0   \n",
              "\n",
              "   estilo_primario  \n",
              "0           visual  \n",
              "1         auditivo  \n",
              "2      kinestesico  \n",
              "3      kinestesico  \n",
              "4         auditivo  \n",
              "\n",
              "[5 rows x 46 columns]"
            ],
            "text/html": [
              "\n",
              "  <div id=\"df-4f0f27f3-d813-4b72-9759-4281f42be55e\">\n",
              "    <div class=\"colab-df-container\">\n",
              "      <div>\n",
              "<style scoped>\n",
              "    .dataframe tbody tr th:only-of-type {\n",
              "        vertical-align: middle;\n",
              "    }\n",
              "\n",
              "    .dataframe tbody tr th {\n",
              "        vertical-align: top;\n",
              "    }\n",
              "\n",
              "    .dataframe thead th {\n",
              "        text-align: right;\n",
              "    }\n",
              "</style>\n",
              "<table border=\"1\" class=\"dataframe\">\n",
              "  <thead>\n",
              "    <tr style=\"text-align: right;\">\n",
              "      <th></th>\n",
              "      <th>sexo</th>\n",
              "      <th>sector</th>\n",
              "      <th>grado_max_estudios</th>\n",
              "      <th>edicion_saturdays_ai</th>\n",
              "      <th>area</th>\n",
              "      <th>1</th>\n",
              "      <th>2</th>\n",
              "      <th>3</th>\n",
              "      <th>4</th>\n",
              "      <th>5</th>\n",
              "      <th>...</th>\n",
              "      <th>32</th>\n",
              "      <th>33</th>\n",
              "      <th>34</th>\n",
              "      <th>35</th>\n",
              "      <th>36</th>\n",
              "      <th>37</th>\n",
              "      <th>38</th>\n",
              "      <th>39</th>\n",
              "      <th>40</th>\n",
              "      <th>estilo_primario</th>\n",
              "    </tr>\n",
              "  </thead>\n",
              "  <tbody>\n",
              "    <tr>\n",
              "      <th>0</th>\n",
              "      <td>0.0</td>\n",
              "      <td>2.0</td>\n",
              "      <td>2.0</td>\n",
              "      <td>4.0</td>\n",
              "      <td>0.0</td>\n",
              "      <td>0.0</td>\n",
              "      <td>2.0</td>\n",
              "      <td>1.0</td>\n",
              "      <td>0.0</td>\n",
              "      <td>0.0</td>\n",
              "      <td>...</td>\n",
              "      <td>0.0</td>\n",
              "      <td>2.0</td>\n",
              "      <td>1.0</td>\n",
              "      <td>2.0</td>\n",
              "      <td>1.0</td>\n",
              "      <td>2.0</td>\n",
              "      <td>0.0</td>\n",
              "      <td>0.0</td>\n",
              "      <td>2.0</td>\n",
              "      <td>visual</td>\n",
              "    </tr>\n",
              "    <tr>\n",
              "      <th>1</th>\n",
              "      <td>1.0</td>\n",
              "      <td>4.0</td>\n",
              "      <td>2.0</td>\n",
              "      <td>4.0</td>\n",
              "      <td>1.0</td>\n",
              "      <td>0.0</td>\n",
              "      <td>0.0</td>\n",
              "      <td>1.0</td>\n",
              "      <td>1.0</td>\n",
              "      <td>2.0</td>\n",
              "      <td>...</td>\n",
              "      <td>2.0</td>\n",
              "      <td>1.0</td>\n",
              "      <td>1.0</td>\n",
              "      <td>1.0</td>\n",
              "      <td>0.0</td>\n",
              "      <td>1.0</td>\n",
              "      <td>1.0</td>\n",
              "      <td>1.0</td>\n",
              "      <td>1.0</td>\n",
              "      <td>auditivo</td>\n",
              "    </tr>\n",
              "    <tr>\n",
              "      <th>2</th>\n",
              "      <td>1.0</td>\n",
              "      <td>4.0</td>\n",
              "      <td>2.0</td>\n",
              "      <td>4.0</td>\n",
              "      <td>1.0</td>\n",
              "      <td>1.0</td>\n",
              "      <td>2.0</td>\n",
              "      <td>1.0</td>\n",
              "      <td>1.0</td>\n",
              "      <td>0.0</td>\n",
              "      <td>...</td>\n",
              "      <td>2.0</td>\n",
              "      <td>2.0</td>\n",
              "      <td>1.0</td>\n",
              "      <td>2.0</td>\n",
              "      <td>2.0</td>\n",
              "      <td>0.0</td>\n",
              "      <td>0.0</td>\n",
              "      <td>1.0</td>\n",
              "      <td>2.0</td>\n",
              "      <td>kinestesico</td>\n",
              "    </tr>\n",
              "    <tr>\n",
              "      <th>3</th>\n",
              "      <td>1.0</td>\n",
              "      <td>4.0</td>\n",
              "      <td>2.0</td>\n",
              "      <td>4.0</td>\n",
              "      <td>1.0</td>\n",
              "      <td>0.0</td>\n",
              "      <td>0.0</td>\n",
              "      <td>1.0</td>\n",
              "      <td>2.0</td>\n",
              "      <td>1.0</td>\n",
              "      <td>...</td>\n",
              "      <td>0.0</td>\n",
              "      <td>0.0</td>\n",
              "      <td>2.0</td>\n",
              "      <td>2.0</td>\n",
              "      <td>0.0</td>\n",
              "      <td>0.0</td>\n",
              "      <td>2.0</td>\n",
              "      <td>1.0</td>\n",
              "      <td>2.0</td>\n",
              "      <td>kinestesico</td>\n",
              "    </tr>\n",
              "    <tr>\n",
              "      <th>4</th>\n",
              "      <td>1.0</td>\n",
              "      <td>3.0</td>\n",
              "      <td>2.0</td>\n",
              "      <td>4.0</td>\n",
              "      <td>1.0</td>\n",
              "      <td>1.0</td>\n",
              "      <td>2.0</td>\n",
              "      <td>1.0</td>\n",
              "      <td>2.0</td>\n",
              "      <td>2.0</td>\n",
              "      <td>...</td>\n",
              "      <td>2.0</td>\n",
              "      <td>2.0</td>\n",
              "      <td>1.0</td>\n",
              "      <td>1.0</td>\n",
              "      <td>0.0</td>\n",
              "      <td>1.0</td>\n",
              "      <td>1.0</td>\n",
              "      <td>1.0</td>\n",
              "      <td>1.0</td>\n",
              "      <td>auditivo</td>\n",
              "    </tr>\n",
              "  </tbody>\n",
              "</table>\n",
              "<p>5 rows × 46 columns</p>\n",
              "</div>\n",
              "      <button class=\"colab-df-convert\" onclick=\"convertToInteractive('df-4f0f27f3-d813-4b72-9759-4281f42be55e')\"\n",
              "              title=\"Convert this dataframe to an interactive table.\"\n",
              "              style=\"display:none;\">\n",
              "        \n",
              "  <svg xmlns=\"http://www.w3.org/2000/svg\" height=\"24px\"viewBox=\"0 0 24 24\"\n",
              "       width=\"24px\">\n",
              "    <path d=\"M0 0h24v24H0V0z\" fill=\"none\"/>\n",
              "    <path d=\"M18.56 5.44l.94 2.06.94-2.06 2.06-.94-2.06-.94-.94-2.06-.94 2.06-2.06.94zm-11 1L8.5 8.5l.94-2.06 2.06-.94-2.06-.94L8.5 2.5l-.94 2.06-2.06.94zm10 10l.94 2.06.94-2.06 2.06-.94-2.06-.94-.94-2.06-.94 2.06-2.06.94z\"/><path d=\"M17.41 7.96l-1.37-1.37c-.4-.4-.92-.59-1.43-.59-.52 0-1.04.2-1.43.59L10.3 9.45l-7.72 7.72c-.78.78-.78 2.05 0 2.83L4 21.41c.39.39.9.59 1.41.59.51 0 1.02-.2 1.41-.59l7.78-7.78 2.81-2.81c.8-.78.8-2.07 0-2.86zM5.41 20L4 18.59l7.72-7.72 1.47 1.35L5.41 20z\"/>\n",
              "  </svg>\n",
              "      </button>\n",
              "      \n",
              "  <style>\n",
              "    .colab-df-container {\n",
              "      display:flex;\n",
              "      flex-wrap:wrap;\n",
              "      gap: 12px;\n",
              "    }\n",
              "\n",
              "    .colab-df-convert {\n",
              "      background-color: #E8F0FE;\n",
              "      border: none;\n",
              "      border-radius: 50%;\n",
              "      cursor: pointer;\n",
              "      display: none;\n",
              "      fill: #1967D2;\n",
              "      height: 32px;\n",
              "      padding: 0 0 0 0;\n",
              "      width: 32px;\n",
              "    }\n",
              "\n",
              "    .colab-df-convert:hover {\n",
              "      background-color: #E2EBFA;\n",
              "      box-shadow: 0px 1px 2px rgba(60, 64, 67, 0.3), 0px 1px 3px 1px rgba(60, 64, 67, 0.15);\n",
              "      fill: #174EA6;\n",
              "    }\n",
              "\n",
              "    [theme=dark] .colab-df-convert {\n",
              "      background-color: #3B4455;\n",
              "      fill: #D2E3FC;\n",
              "    }\n",
              "\n",
              "    [theme=dark] .colab-df-convert:hover {\n",
              "      background-color: #434B5C;\n",
              "      box-shadow: 0px 1px 3px 1px rgba(0, 0, 0, 0.15);\n",
              "      filter: drop-shadow(0px 1px 2px rgba(0, 0, 0, 0.3));\n",
              "      fill: #FFFFFF;\n",
              "    }\n",
              "  </style>\n",
              "\n",
              "      <script>\n",
              "        const buttonEl =\n",
              "          document.querySelector('#df-4f0f27f3-d813-4b72-9759-4281f42be55e button.colab-df-convert');\n",
              "        buttonEl.style.display =\n",
              "          google.colab.kernel.accessAllowed ? 'block' : 'none';\n",
              "\n",
              "        async function convertToInteractive(key) {\n",
              "          const element = document.querySelector('#df-4f0f27f3-d813-4b72-9759-4281f42be55e');\n",
              "          const dataTable =\n",
              "            await google.colab.kernel.invokeFunction('convertToInteractive',\n",
              "                                                     [key], {});\n",
              "          if (!dataTable) return;\n",
              "\n",
              "          const docLinkHtml = 'Like what you see? Visit the ' +\n",
              "            '<a target=\"_blank\" href=https://colab.research.google.com/notebooks/data_table.ipynb>data table notebook</a>'\n",
              "            + ' to learn more about interactive tables.';\n",
              "          element.innerHTML = '';\n",
              "          dataTable['output_type'] = 'display_data';\n",
              "          await google.colab.output.renderOutput(dataTable, element);\n",
              "          const docLink = document.createElement('div');\n",
              "          docLink.innerHTML = docLinkHtml;\n",
              "          element.appendChild(docLink);\n",
              "        }\n",
              "      </script>\n",
              "    </div>\n",
              "  </div>\n",
              "  "
            ]
          },
          "metadata": {},
          "execution_count": 48
        }
      ]
    },
    {
      "cell_type": "code",
      "source": [
        "# Información del dataset\n",
        "data2.info()"
      ],
      "metadata": {
        "colab": {
          "base_uri": "https://localhost:8080/"
        },
        "id": "H_PVazdJ6x4X",
        "outputId": "112d450c-5d8b-4de1-eea0-f4be4c4ab711"
      },
      "execution_count": 49,
      "outputs": [
        {
          "output_type": "stream",
          "name": "stdout",
          "text": [
            "<class 'pandas.core.frame.DataFrame'>\n",
            "RangeIndex: 50 entries, 0 to 49\n",
            "Data columns (total 46 columns):\n",
            " #   Column                Non-Null Count  Dtype  \n",
            "---  ------                --------------  -----  \n",
            " 0   sexo                  50 non-null     float64\n",
            " 1   sector                50 non-null     float64\n",
            " 2   grado_max_estudios    50 non-null     float64\n",
            " 3   edicion_saturdays_ai  50 non-null     float64\n",
            " 4   area                  50 non-null     float64\n",
            " 5   1                     50 non-null     float64\n",
            " 6   2                     50 non-null     float64\n",
            " 7   3                     50 non-null     float64\n",
            " 8   4                     50 non-null     float64\n",
            " 9   5                     50 non-null     float64\n",
            " 10  6                     50 non-null     float64\n",
            " 11  7                     50 non-null     float64\n",
            " 12  8                     50 non-null     float64\n",
            " 13  9                     50 non-null     float64\n",
            " 14  10                    50 non-null     float64\n",
            " 15  11                    50 non-null     float64\n",
            " 16  12                    50 non-null     float64\n",
            " 17  13                    50 non-null     float64\n",
            " 18  14                    50 non-null     float64\n",
            " 19  15                    50 non-null     float64\n",
            " 20  16                    50 non-null     float64\n",
            " 21  17                    50 non-null     float64\n",
            " 22  18                    50 non-null     float64\n",
            " 23  19                    50 non-null     float64\n",
            " 24  20                    50 non-null     float64\n",
            " 25  21                    50 non-null     float64\n",
            " 26  22                    50 non-null     float64\n",
            " 27  23                    50 non-null     float64\n",
            " 28  24                    50 non-null     float64\n",
            " 29  25                    50 non-null     float64\n",
            " 30  26                    50 non-null     float64\n",
            " 31  27                    50 non-null     float64\n",
            " 32  28                    50 non-null     float64\n",
            " 33  29                    50 non-null     float64\n",
            " 34  30                    50 non-null     float64\n",
            " 35  31                    50 non-null     float64\n",
            " 36  32                    50 non-null     float64\n",
            " 37  33                    50 non-null     float64\n",
            " 38  34                    50 non-null     float64\n",
            " 39  35                    50 non-null     float64\n",
            " 40  36                    50 non-null     float64\n",
            " 41  37                    50 non-null     float64\n",
            " 42  38                    50 non-null     float64\n",
            " 43  39                    50 non-null     float64\n",
            " 44  40                    50 non-null     float64\n",
            " 45  estilo_primario       50 non-null     object \n",
            "dtypes: float64(45), object(1)\n",
            "memory usage: 18.1+ KB\n"
          ]
        }
      ]
    },
    {
      "cell_type": "code",
      "source": [
        "# Dividimos los datos en entrenamiento y prueba\n",
        "from sklearn.model_selection import train_test_split\n",
        "# X son nuestras variables independientes\n",
        "X = data2.drop([\"estilo_primario\"],axis = 1)\n",
        "\n",
        "# y es nuestra variable dependiente\n",
        "y = data2.estilo_primario\n",
        "\n",
        "# División 75% de datos para entrenamiento, 25% de daatos para test\n",
        "X_train, X_test, y_train, y_test = train_test_split(X, y,random_state=0)"
      ],
      "metadata": {
        "id": "ZUWSYmxR68t4"
      },
      "execution_count": 50,
      "outputs": []
    },
    {
      "cell_type": "code",
      "source": [
        "# Creaamos el modelo de Bosques Aleatorios (y configuramos el número de estimadores (árboles de decisión))\n",
        "BA_model2 = RandomForestClassifier(n_estimators = 100, \n",
        "                                  random_state = 0,\n",
        "                                  min_samples_leaf = 8,)"
      ],
      "metadata": {
        "id": "iJZ9JM3o7Uz1"
      },
      "execution_count": 51,
      "outputs": []
    },
    {
      "cell_type": "code",
      "source": [
        "BA_model2.fit(X_train, y_train)"
      ],
      "metadata": {
        "colab": {
          "base_uri": "https://localhost:8080/"
        },
        "id": "Ep9WYu8Q7dSe",
        "outputId": "0da4d111-fa1e-40c8-9824-375194fcb672"
      },
      "execution_count": 52,
      "outputs": [
        {
          "output_type": "execute_result",
          "data": {
            "text/plain": [
              "RandomForestClassifier(min_samples_leaf=8, random_state=0)"
            ]
          },
          "metadata": {},
          "execution_count": 52
        }
      ]
    },
    {
      "cell_type": "code",
      "source": [
        "len(BA_model2.estimators_)"
      ],
      "metadata": {
        "colab": {
          "base_uri": "https://localhost:8080/"
        },
        "id": "Nq8f2TkA7o7Y",
        "outputId": "af9fab7d-e93b-43b1-b963-d0714df61218"
      },
      "execution_count": 53,
      "outputs": [
        {
          "output_type": "execute_result",
          "data": {
            "text/plain": [
              "100"
            ]
          },
          "metadata": {},
          "execution_count": 53
        }
      ]
    },
    {
      "cell_type": "code",
      "source": [
        "from sklearn import tree\n",
        "plt.figure(figsize=(5,5))\n",
        "_ = tree.plot_tree(BA_model.estimators_[0], feature_names=X.columns, filled=True)"
      ],
      "metadata": {
        "colab": {
          "base_uri": "https://localhost:8080/",
          "height": 303
        },
        "id": "rxjDNvEl7raq",
        "outputId": "2b4de006-655c-4673-bbc4-79c49d28b79e"
      },
      "execution_count": 54,
      "outputs": [
        {
          "output_type": "display_data",
          "data": {
            "text/plain": [
              "<Figure size 360x360 with 1 Axes>"
            ],
            "image/png": "[encoded data removed]"
          },
          "metadata": {
            "needs_background": "light"
          }
        }
      ]
    },
    {
      "cell_type": "code",
      "source": [
        "# Accuracy promedio\n",
        "BA_model2.score(X_test, y_test)"
      ],
      "metadata": {
        "colab": {
          "base_uri": "https://localhost:8080/"
        },
        "id": "971WBhQa77p-",
        "outputId": "f4bd9c53-aef4-4f4b-dd28-c756148c13ab"
      },
      "execution_count": 57,
      "outputs": [
        {
          "output_type": "execute_result",
          "data": {
            "text/plain": [
              "0.5384615384615384"
            ]
          },
          "metadata": {},
          "execution_count": 57
        }
      ]
    },
    {
      "cell_type": "code",
      "source": [
        "y_pred=BA_model2.predict(X_test)"
      ],
      "metadata": {
        "id": "ttOgq4wX8DZc"
      },
      "execution_count": 59,
      "outputs": []
    },
    {
      "cell_type": "code",
      "source": [
        "index = np.arange(0,len(y_test))\n",
        "fig, ax = plt.subplots(1,1,figsize=(15,5))\n",
        "plt.scatter(index,y_test,c=\"red\",label = 'True Value')\n",
        "plt.scatter(index,y_pred,c=\"blue\", label = 'Predicted Value')\n",
        "\n",
        "plt.legend()"
      ],
      "metadata": {
        "colab": {
          "base_uri": "https://localhost:8080/",
          "height": 338
        },
        "id": "ceDAi1Ub8Llx",
        "outputId": "38802153-7fe0-4567-fc7d-8d3515cd260f"
      },
      "execution_count": 60,
      "outputs": [
        {
          "output_type": "execute_result",
          "data": {
            "text/plain": [
              "<matplotlib.legend.Legend at 0x7fafd7406c90>"
            ]
          },
          "metadata": {},
          "execution_count": 60
        },
        {
          "output_type": "display_data",
          "data": {
            "text/plain": [
              "<Figure size 1080x360 with 1 Axes>"
            ],
            "image/png": "[encoded data removed]"
          },
          "metadata": {
            "needs_background": "light"
          }
        }
      ]
    },
    {
      "cell_type": "code",
      "source": [
        "from mlxtend.plotting import plot_confusion_matrix\n",
        "from sklearn.metrics import confusion_matrix\n",
        "import seaborn as sns\n",
        "\n",
        "# Predicción del modelo usando los datos de prueba\n",
        "y_pred = BA_model.predict(X_test)\n",
        "matriz = confusion_matrix(y_test,y_pred)\n",
        "plt.figure(figsize=(10, 7))\n",
        "sns.heatmap(matriz, annot=True)"
      ],
      "metadata": {
        "colab": {
          "base_uri": "https://localhost:8080/",
          "height": 450
        },
        "id": "hWnkNKBc8Pth",
        "outputId": "f7b04c81-8f3b-42cc-9dda-6f16f6d8bf09"
      },
      "execution_count": 62,
      "outputs": [
        {
          "output_type": "execute_result",
          "data": {
            "text/plain": [
              "<matplotlib.axes._subplots.AxesSubplot at 0x7fafd72a90d0>"
            ]
          },
          "metadata": {},
          "execution_count": 62
        },
        {
          "output_type": "display_data",
          "data": {
            "text/plain": [
              "<Figure size 720x504 with 2 Axes>"
            ],
            "image/png": "[encoded data removed]"
          },
          "metadata": {
            "needs_background": "light"
          }
        }
      ]
    },
    {
      "cell_type": "markdown",
      "source": [
        "# Conclusiones\n",
        "Hemos aplicado el modelo de ***clasificacion de random forest*** y  los datos  correspondientes a las 40 preguntas del test vak.\n",
        "\n",
        "Dentro de este modelo esta clasifiando una clave que es estilo_primario contra el resto de las demas "
      ],
      "metadata": {
        "id": "G19ysLVi57rf"
      }
    }
  ]
}